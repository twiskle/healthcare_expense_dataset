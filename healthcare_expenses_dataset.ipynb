{
 "cells": [
  {
   "cell_type": "markdown",
   "id": "e2147457",
   "metadata": {},
   "source": [
    "## Healthcare Insurance Expenses"
   ]
  },
  {
   "cell_type": "markdown",
   "id": "8b26f201",
   "metadata": {},
   "source": [
    "#### Dataset is obtained from:\n",
    "\n",
    "https://www.kaggle.com/datasets/arunjangir245/healthcare-insurance-expenses"
   ]
  },
  {
   "cell_type": "code",
   "execution_count": null,
   "id": "5352ed9c",
   "metadata": {},
   "outputs": [],
   "source": [
    "import warnings\n",
    "warnings.filterwarnings('ignore')"
   ]
  },
  {
   "cell_type": "code",
   "execution_count": 172,
   "id": "8be5fca9",
   "metadata": {},
   "outputs": [],
   "source": [
    "import pandas as pd\n",
    "import numpy as np\n",
    "import matplotlib.pyplot as plt\n",
    "import seaborn as sns\n",
    "import scipy.stats as stats\n",
    "import math\n",
    "import time"
   ]
  },
  {
   "cell_type": "code",
   "execution_count": 2,
   "id": "717ab8bd",
   "metadata": {},
   "outputs": [],
   "source": [
    "filePath = 'C:/DATASET/'"
   ]
  },
  {
   "cell_type": "code",
   "execution_count": 3,
   "id": "562fef53",
   "metadata": {},
   "outputs": [],
   "source": [
    "import os\n",
    "import zipfile\n",
    "if not os.path.isdir(filePath+\"healthcare_insurance_kaggle\"):\n",
    "    with zipfile.ZipFile(filePath+'healthcare_insurance_expenses.zip', 'r') as zip_ref:\n",
    "        zip_ref.extractall(filePath+'healthcare_insurance_kaggle')"
   ]
  },
  {
   "cell_type": "code",
   "execution_count": 4,
   "id": "98e11969",
   "metadata": {},
   "outputs": [],
   "source": [
    "df = pd.read_csv(filePath+'healthcare_insurance_kaggle/insurance.csv')"
   ]
  },
  {
   "cell_type": "code",
   "execution_count": 5,
   "id": "0206fa98",
   "metadata": {},
   "outputs": [
    {
     "data": {
      "text/html": [
       "<div>\n",
       "<style scoped>\n",
       "    .dataframe tbody tr th:only-of-type {\n",
       "        vertical-align: middle;\n",
       "    }\n",
       "\n",
       "    .dataframe tbody tr th {\n",
       "        vertical-align: top;\n",
       "    }\n",
       "\n",
       "    .dataframe thead th {\n",
       "        text-align: right;\n",
       "    }\n",
       "</style>\n",
       "<table border=\"1\" class=\"dataframe\">\n",
       "  <thead>\n",
       "    <tr style=\"text-align: right;\">\n",
       "      <th></th>\n",
       "      <th>age</th>\n",
       "      <th>sex</th>\n",
       "      <th>bmi</th>\n",
       "      <th>children</th>\n",
       "      <th>smoker</th>\n",
       "      <th>region</th>\n",
       "      <th>charges</th>\n",
       "    </tr>\n",
       "  </thead>\n",
       "  <tbody>\n",
       "    <tr>\n",
       "      <th>0</th>\n",
       "      <td>19</td>\n",
       "      <td>female</td>\n",
       "      <td>27.90</td>\n",
       "      <td>0</td>\n",
       "      <td>yes</td>\n",
       "      <td>southwest</td>\n",
       "      <td>16884.9240</td>\n",
       "    </tr>\n",
       "    <tr>\n",
       "      <th>1</th>\n",
       "      <td>18</td>\n",
       "      <td>male</td>\n",
       "      <td>33.77</td>\n",
       "      <td>1</td>\n",
       "      <td>no</td>\n",
       "      <td>southeast</td>\n",
       "      <td>1725.5523</td>\n",
       "    </tr>\n",
       "  </tbody>\n",
       "</table>\n",
       "</div>"
      ],
      "text/plain": [
       "   age     sex    bmi  children smoker     region     charges\n",
       "0   19  female  27.90         0    yes  southwest  16884.9240\n",
       "1   18    male  33.77         1     no  southeast   1725.5523"
      ]
     },
     "metadata": {},
     "output_type": "display_data"
    },
    {
     "data": {
      "text/html": [
       "<div>\n",
       "<style scoped>\n",
       "    .dataframe tbody tr th:only-of-type {\n",
       "        vertical-align: middle;\n",
       "    }\n",
       "\n",
       "    .dataframe tbody tr th {\n",
       "        vertical-align: top;\n",
       "    }\n",
       "\n",
       "    .dataframe thead th {\n",
       "        text-align: right;\n",
       "    }\n",
       "</style>\n",
       "<table border=\"1\" class=\"dataframe\">\n",
       "  <thead>\n",
       "    <tr style=\"text-align: right;\">\n",
       "      <th></th>\n",
       "      <th>age</th>\n",
       "      <th>bmi</th>\n",
       "      <th>children</th>\n",
       "      <th>charges</th>\n",
       "    </tr>\n",
       "  </thead>\n",
       "  <tbody>\n",
       "    <tr>\n",
       "      <th>count</th>\n",
       "      <td>1338.000000</td>\n",
       "      <td>1338.000000</td>\n",
       "      <td>1338.000000</td>\n",
       "      <td>1338.000000</td>\n",
       "    </tr>\n",
       "    <tr>\n",
       "      <th>mean</th>\n",
       "      <td>39.207025</td>\n",
       "      <td>30.663397</td>\n",
       "      <td>1.094918</td>\n",
       "      <td>13270.422265</td>\n",
       "    </tr>\n",
       "    <tr>\n",
       "      <th>std</th>\n",
       "      <td>14.049960</td>\n",
       "      <td>6.098187</td>\n",
       "      <td>1.205493</td>\n",
       "      <td>12110.011237</td>\n",
       "    </tr>\n",
       "    <tr>\n",
       "      <th>min</th>\n",
       "      <td>18.000000</td>\n",
       "      <td>15.960000</td>\n",
       "      <td>0.000000</td>\n",
       "      <td>1121.873900</td>\n",
       "    </tr>\n",
       "    <tr>\n",
       "      <th>25%</th>\n",
       "      <td>27.000000</td>\n",
       "      <td>26.296250</td>\n",
       "      <td>0.000000</td>\n",
       "      <td>4740.287150</td>\n",
       "    </tr>\n",
       "    <tr>\n",
       "      <th>50%</th>\n",
       "      <td>39.000000</td>\n",
       "      <td>30.400000</td>\n",
       "      <td>1.000000</td>\n",
       "      <td>9382.033000</td>\n",
       "    </tr>\n",
       "    <tr>\n",
       "      <th>75%</th>\n",
       "      <td>51.000000</td>\n",
       "      <td>34.693750</td>\n",
       "      <td>2.000000</td>\n",
       "      <td>16639.912515</td>\n",
       "    </tr>\n",
       "    <tr>\n",
       "      <th>max</th>\n",
       "      <td>64.000000</td>\n",
       "      <td>53.130000</td>\n",
       "      <td>5.000000</td>\n",
       "      <td>63770.428010</td>\n",
       "    </tr>\n",
       "  </tbody>\n",
       "</table>\n",
       "</div>"
      ],
      "text/plain": [
       "               age          bmi     children       charges\n",
       "count  1338.000000  1338.000000  1338.000000   1338.000000\n",
       "mean     39.207025    30.663397     1.094918  13270.422265\n",
       "std      14.049960     6.098187     1.205493  12110.011237\n",
       "min      18.000000    15.960000     0.000000   1121.873900\n",
       "25%      27.000000    26.296250     0.000000   4740.287150\n",
       "50%      39.000000    30.400000     1.000000   9382.033000\n",
       "75%      51.000000    34.693750     2.000000  16639.912515\n",
       "max      64.000000    53.130000     5.000000  63770.428010"
      ]
     },
     "metadata": {},
     "output_type": "display_data"
    }
   ],
   "source": [
    "display(df.head(2))\n",
    "display(df.describe())"
   ]
  },
  {
   "cell_type": "code",
   "execution_count": 6,
   "id": "6b11b7fc",
   "metadata": {},
   "outputs": [
    {
     "name": "stdout",
     "output_type": "stream",
     "text": [
      "Number of rows: 1338, Number of columns: 7\n"
     ]
    }
   ],
   "source": [
    "print(\"Number of rows: {0}, Number of columns: {1}\".format(len(df), len(df.columns)))"
   ]
  },
  {
   "cell_type": "code",
   "execution_count": 7,
   "id": "51ec7a76",
   "metadata": {},
   "outputs": [
    {
     "data": {
      "text/plain": [
       "age         False\n",
       "sex         False\n",
       "bmi         False\n",
       "children    False\n",
       "smoker      False\n",
       "region      False\n",
       "charges     False\n",
       "dtype: bool"
      ]
     },
     "execution_count": 7,
     "metadata": {},
     "output_type": "execute_result"
    }
   ],
   "source": [
    "df.isnull().any()"
   ]
  },
  {
   "cell_type": "markdown",
   "id": "d37d88e6",
   "metadata": {},
   "source": [
    "### Inspect the data"
   ]
  },
  {
   "cell_type": "code",
   "execution_count": 8,
   "id": "4b398c16",
   "metadata": {
    "scrolled": true
   },
   "outputs": [
    {
     "data": {
      "text/plain": [
       "male      676\n",
       "female    662\n",
       "Name: sex, dtype: int64"
      ]
     },
     "execution_count": 8,
     "metadata": {},
     "output_type": "execute_result"
    }
   ],
   "source": [
    "df['sex'].value_counts()"
   ]
  },
  {
   "cell_type": "code",
   "execution_count": 9,
   "id": "335f7552",
   "metadata": {},
   "outputs": [],
   "source": [
    "# binarize the 'sex' column\n",
    "sex_dict = dict({'male': 0, 'female': 1})\n",
    "df['sex_cla'] = df['sex'].map(sex_dict)"
   ]
  },
  {
   "cell_type": "code",
   "execution_count": 10,
   "id": "5c8fd748",
   "metadata": {},
   "outputs": [
    {
     "data": {
      "text/plain": [
       "0    676\n",
       "1    662\n",
       "Name: sex_cla, dtype: int64"
      ]
     },
     "execution_count": 10,
     "metadata": {},
     "output_type": "execute_result"
    }
   ],
   "source": [
    "df['sex_cla'].value_counts()"
   ]
  },
  {
   "cell_type": "code",
   "execution_count": 11,
   "id": "33f89144",
   "metadata": {},
   "outputs": [
    {
     "data": {
      "text/plain": [
       "0    574\n",
       "1    324\n",
       "2    240\n",
       "3    157\n",
       "4     25\n",
       "5     18\n",
       "Name: children, dtype: int64"
      ]
     },
     "execution_count": 11,
     "metadata": {},
     "output_type": "execute_result"
    }
   ],
   "source": [
    "df['children'].value_counts()"
   ]
  },
  {
   "cell_type": "code",
   "execution_count": 12,
   "id": "e792b500",
   "metadata": {},
   "outputs": [
    {
     "data": {
      "text/plain": [
       "no     1064\n",
       "yes     274\n",
       "Name: smoker, dtype: int64"
      ]
     },
     "execution_count": 12,
     "metadata": {},
     "output_type": "execute_result"
    }
   ],
   "source": [
    "df['smoker'].value_counts()"
   ]
  },
  {
   "cell_type": "code",
   "execution_count": 13,
   "id": "658bfa35",
   "metadata": {},
   "outputs": [],
   "source": [
    "# binarize the 'smoker' column\n",
    "smoker_dict = dict({'no': 0, 'yes': 1})\n",
    "df['smoker_cla'] = df['smoker'].map(smoker_dict)"
   ]
  },
  {
   "cell_type": "code",
   "execution_count": 14,
   "id": "08148783",
   "metadata": {},
   "outputs": [
    {
     "data": {
      "text/plain": [
       "0    1064\n",
       "1     274\n",
       "Name: smoker_cla, dtype: int64"
      ]
     },
     "execution_count": 14,
     "metadata": {},
     "output_type": "execute_result"
    }
   ],
   "source": [
    "df['smoker_cla'].value_counts()"
   ]
  },
  {
   "cell_type": "code",
   "execution_count": 15,
   "id": "fd60d68c",
   "metadata": {},
   "outputs": [
    {
     "data": {
      "text/plain": [
       "southeast    364\n",
       "southwest    325\n",
       "northwest    325\n",
       "northeast    324\n",
       "Name: region, dtype: int64"
      ]
     },
     "execution_count": 15,
     "metadata": {},
     "output_type": "execute_result"
    }
   ],
   "source": [
    "df['region'].value_counts()"
   ]
  },
  {
   "cell_type": "code",
   "execution_count": 16,
   "id": "028f7498",
   "metadata": {},
   "outputs": [],
   "source": [
    "# represents each type of 'region' column with numerical values\n",
    "region_dict = dict({'southeast': 0, 'southwest': 1, 'northwest': 2, 'northeast': 3})\n",
    "df['region_cla'] = df['region'].map(region_dict)"
   ]
  },
  {
   "cell_type": "code",
   "execution_count": 17,
   "id": "1a73f8f9",
   "metadata": {},
   "outputs": [
    {
     "data": {
      "text/plain": [
       "0    364\n",
       "1    325\n",
       "2    325\n",
       "3    324\n",
       "Name: region_cla, dtype: int64"
      ]
     },
     "execution_count": 17,
     "metadata": {},
     "output_type": "execute_result"
    }
   ],
   "source": [
    "df['region_cla'].value_counts()"
   ]
  },
  {
   "cell_type": "code",
   "execution_count": null,
   "id": "2c47eda5",
   "metadata": {},
   "outputs": [],
   "source": []
  },
  {
   "cell_type": "code",
   "execution_count": null,
   "id": "b183fede",
   "metadata": {},
   "outputs": [],
   "source": []
  },
  {
   "cell_type": "markdown",
   "id": "35d482d0",
   "metadata": {},
   "source": [
    "### Categorize the numerical columns"
   ]
  },
  {
   "cell_type": "code",
   "execution_count": 18,
   "id": "68045be9",
   "metadata": {},
   "outputs": [],
   "source": [
    "# Age, bmi, and charges\n",
    "cols = ['age', 'bmi', 'charges']"
   ]
  },
  {
   "cell_type": "code",
   "execution_count": 19,
   "id": "99e6612c",
   "metadata": {},
   "outputs": [],
   "source": [
    "#fig, axes = plt.subplots(nrows=1, ncols=3)\n",
    "#for i, ax in zip(range(len(cols)), axes.flat):\n",
    "    #sns.distplot(df[cols[i]], hist=False, ax=ax)\n",
    "    #plt.xlabel(cols[i])\n",
    "\n",
    "#for i in range(len(cols)):\n",
    "#    sns.displot(data=df, x=cols[i], kind=\"kde\", row_order=1, col_order=3)\n",
    "#plt.show()"
   ]
  },
  {
   "cell_type": "code",
   "execution_count": 71,
   "id": "2f36a27c",
   "metadata": {},
   "outputs": [
    {
     "data": {
      "image/png": "[encoded data removed]",
      "text/plain": [
       "<Figure size 500x500 with 1 Axes>"
      ]
     },
     "metadata": {},
     "output_type": "display_data"
    }
   ],
   "source": [
    "# Age distribution\n",
    "sns.displot(data=df, x=cols[0], kind=\"kde\")\n",
    "plt.xlabel('Age')\n",
    "plt.show()"
   ]
  },
  {
   "cell_type": "code",
   "execution_count": 20,
   "id": "50e14f4b",
   "metadata": {},
   "outputs": [
    {
     "data": {
      "image/png": "[encoded data removed]",
      "text/plain": [
       "<Figure size 400x400 with 1 Axes>"
      ]
     },
     "metadata": {},
     "output_type": "display_data"
    }
   ],
   "source": [
    "# Age\n",
    "plt.figure(figsize=[4, 4])\n",
    "sns.boxplot(df[cols[0]])\n",
    "plt.xlabel('Age')\n",
    "plt.show()"
   ]
  },
  {
   "cell_type": "code",
   "execution_count": 31,
   "id": "978ccdae",
   "metadata": {},
   "outputs": [],
   "source": [
    "# split Age into 4 classes using np.percentile\n",
    "age_percentile = np.percentile(df['age'], q=[0, 25, 50, 75, 100])\n",
    "labels = ['1', '2', '3', '4']\n",
    "df['age_cla'] = pd.cut(df['age'], bins=age_percentile, labels=labels,\n",
    "                      include_lowest=True, right=True)"
   ]
  },
  {
   "cell_type": "code",
   "execution_count": 32,
   "id": "4afda414",
   "metadata": {},
   "outputs": [
    {
     "data": {
      "text/html": [
       "<div>\n",
       "<style scoped>\n",
       "    .dataframe tbody tr th:only-of-type {\n",
       "        vertical-align: middle;\n",
       "    }\n",
       "\n",
       "    .dataframe tbody tr th {\n",
       "        vertical-align: top;\n",
       "    }\n",
       "\n",
       "    .dataframe thead th {\n",
       "        text-align: right;\n",
       "    }\n",
       "</style>\n",
       "<table border=\"1\" class=\"dataframe\">\n",
       "  <thead>\n",
       "    <tr style=\"text-align: right;\">\n",
       "      <th></th>\n",
       "      <th>age</th>\n",
       "      <th>age_cla</th>\n",
       "    </tr>\n",
       "  </thead>\n",
       "  <tbody>\n",
       "    <tr>\n",
       "      <th>1333</th>\n",
       "      <td>50</td>\n",
       "      <td>3</td>\n",
       "    </tr>\n",
       "    <tr>\n",
       "      <th>1334</th>\n",
       "      <td>18</td>\n",
       "      <td>1</td>\n",
       "    </tr>\n",
       "    <tr>\n",
       "      <th>1335</th>\n",
       "      <td>18</td>\n",
       "      <td>1</td>\n",
       "    </tr>\n",
       "    <tr>\n",
       "      <th>1336</th>\n",
       "      <td>21</td>\n",
       "      <td>1</td>\n",
       "    </tr>\n",
       "    <tr>\n",
       "      <th>1337</th>\n",
       "      <td>61</td>\n",
       "      <td>4</td>\n",
       "    </tr>\n",
       "  </tbody>\n",
       "</table>\n",
       "</div>"
      ],
      "text/plain": [
       "      age age_cla\n",
       "1333   50       3\n",
       "1334   18       1\n",
       "1335   18       1\n",
       "1336   21       1\n",
       "1337   61       4"
      ]
     },
     "metadata": {},
     "output_type": "display_data"
    }
   ],
   "source": [
    "display(df[['age', 'age_cla']].tail(5))"
   ]
  },
  {
   "cell_type": "code",
   "execution_count": 72,
   "id": "915b8b5f",
   "metadata": {},
   "outputs": [
    {
     "data": {
      "image/png": "[encoded data removed]",
      "text/plain": [
       "<Figure size 500x500 with 1 Axes>"
      ]
     },
     "metadata": {},
     "output_type": "display_data"
    }
   ],
   "source": [
    "# BMI distrbution\n",
    "sns.displot(data=df, x=cols[1], kind=\"kde\")\n",
    "plt.xlabel('BMI')\n",
    "plt.show()"
   ]
  },
  {
   "cell_type": "code",
   "execution_count": 33,
   "id": "3d5d0f69",
   "metadata": {},
   "outputs": [
    {
     "data": {
      "image/png": "[encoded data removed]",
      "text/plain": [
       "<Figure size 400x400 with 1 Axes>"
      ]
     },
     "metadata": {},
     "output_type": "display_data"
    }
   ],
   "source": [
    "# BMI\n",
    "plt.figure(figsize=[4, 4])\n",
    "sns.boxplot(df[cols[1]])\n",
    "plt.xlabel('BMI')\n",
    "plt.show()"
   ]
  },
  {
   "cell_type": "code",
   "execution_count": 34,
   "id": "aba191c4",
   "metadata": {},
   "outputs": [],
   "source": [
    "# split BMI into 4 classes using np.percentile\n",
    "bmi_percentile = np.percentile(df['bmi'], q=[0, 25, 50, 75, 100])\n",
    "labels = ['1', '2', '3', '4']\n",
    "df['bmi_cla'] = pd.cut(df['bmi'], bins=bmi_percentile, labels=labels,\n",
    "                       include_lowest=True, right=True)"
   ]
  },
  {
   "cell_type": "code",
   "execution_count": 35,
   "id": "9132e91b",
   "metadata": {},
   "outputs": [
    {
     "data": {
      "text/html": [
       "<div>\n",
       "<style scoped>\n",
       "    .dataframe tbody tr th:only-of-type {\n",
       "        vertical-align: middle;\n",
       "    }\n",
       "\n",
       "    .dataframe tbody tr th {\n",
       "        vertical-align: top;\n",
       "    }\n",
       "\n",
       "    .dataframe thead th {\n",
       "        text-align: right;\n",
       "    }\n",
       "</style>\n",
       "<table border=\"1\" class=\"dataframe\">\n",
       "  <thead>\n",
       "    <tr style=\"text-align: right;\">\n",
       "      <th></th>\n",
       "      <th>bmi</th>\n",
       "      <th>bmi_cla</th>\n",
       "    </tr>\n",
       "  </thead>\n",
       "  <tbody>\n",
       "    <tr>\n",
       "      <th>1333</th>\n",
       "      <td>30.97</td>\n",
       "      <td>3</td>\n",
       "    </tr>\n",
       "    <tr>\n",
       "      <th>1334</th>\n",
       "      <td>31.92</td>\n",
       "      <td>3</td>\n",
       "    </tr>\n",
       "    <tr>\n",
       "      <th>1335</th>\n",
       "      <td>36.85</td>\n",
       "      <td>4</td>\n",
       "    </tr>\n",
       "    <tr>\n",
       "      <th>1336</th>\n",
       "      <td>25.80</td>\n",
       "      <td>1</td>\n",
       "    </tr>\n",
       "    <tr>\n",
       "      <th>1337</th>\n",
       "      <td>29.07</td>\n",
       "      <td>2</td>\n",
       "    </tr>\n",
       "  </tbody>\n",
       "</table>\n",
       "</div>"
      ],
      "text/plain": [
       "        bmi bmi_cla\n",
       "1333  30.97       3\n",
       "1334  31.92       3\n",
       "1335  36.85       4\n",
       "1336  25.80       1\n",
       "1337  29.07       2"
      ]
     },
     "metadata": {},
     "output_type": "display_data"
    }
   ],
   "source": [
    "display(df[['bmi', 'bmi_cla']].tail(5))"
   ]
  },
  {
   "cell_type": "code",
   "execution_count": 73,
   "id": "8b17ef23",
   "metadata": {},
   "outputs": [
    {
     "data": {
      "image/png": "[encoded data removed]",
      "text/plain": [
       "<Figure size 500x500 with 1 Axes>"
      ]
     },
     "metadata": {},
     "output_type": "display_data"
    }
   ],
   "source": [
    "# charges distribution\n",
    "sns.displot(data=df, x=cols[2], kind=\"kde\")\n",
    "plt.xlabel('charges')\n",
    "plt.show()"
   ]
  },
  {
   "cell_type": "code",
   "execution_count": 74,
   "id": "0da0cad1",
   "metadata": {},
   "outputs": [
    {
     "data": {
      "image/png": "[encoded data removed]",
      "text/plain": [
       "<Figure size 400x400 with 1 Axes>"
      ]
     },
     "metadata": {},
     "output_type": "display_data"
    }
   ],
   "source": [
    "# charges\n",
    "plt.figure(figsize=[4, 4])\n",
    "sns.boxplot(df[cols[2]])\n",
    "plt.xlabel('charges')\n",
    "plt.show()"
   ]
  },
  {
   "cell_type": "code",
   "execution_count": 37,
   "id": "9105f161",
   "metadata": {},
   "outputs": [],
   "source": [
    "# split charges into 4 classes using np.percentile\n",
    "charges_percentile = np.percentile(df['charges'], q=[0, 25, 50, 75, 100])\n",
    "labels = ['1', '2', '3', '4']\n",
    "df['charges_cla'] = pd.cut(df['charges'], bins=charges_percentile, labels=labels,\n",
    "                           include_lowest=True, right=True)"
   ]
  },
  {
   "cell_type": "code",
   "execution_count": 38,
   "id": "22ad085d",
   "metadata": {},
   "outputs": [
    {
     "data": {
      "text/html": [
       "<div>\n",
       "<style scoped>\n",
       "    .dataframe tbody tr th:only-of-type {\n",
       "        vertical-align: middle;\n",
       "    }\n",
       "\n",
       "    .dataframe tbody tr th {\n",
       "        vertical-align: top;\n",
       "    }\n",
       "\n",
       "    .dataframe thead th {\n",
       "        text-align: right;\n",
       "    }\n",
       "</style>\n",
       "<table border=\"1\" class=\"dataframe\">\n",
       "  <thead>\n",
       "    <tr style=\"text-align: right;\">\n",
       "      <th></th>\n",
       "      <th>charges</th>\n",
       "      <th>charges_cla</th>\n",
       "    </tr>\n",
       "  </thead>\n",
       "  <tbody>\n",
       "    <tr>\n",
       "      <th>1328</th>\n",
       "      <td>22395.74424</td>\n",
       "      <td>4</td>\n",
       "    </tr>\n",
       "    <tr>\n",
       "      <th>1329</th>\n",
       "      <td>10325.20600</td>\n",
       "      <td>3</td>\n",
       "    </tr>\n",
       "    <tr>\n",
       "      <th>1330</th>\n",
       "      <td>12629.16560</td>\n",
       "      <td>3</td>\n",
       "    </tr>\n",
       "    <tr>\n",
       "      <th>1331</th>\n",
       "      <td>10795.93733</td>\n",
       "      <td>3</td>\n",
       "    </tr>\n",
       "    <tr>\n",
       "      <th>1332</th>\n",
       "      <td>11411.68500</td>\n",
       "      <td>3</td>\n",
       "    </tr>\n",
       "    <tr>\n",
       "      <th>1333</th>\n",
       "      <td>10600.54830</td>\n",
       "      <td>3</td>\n",
       "    </tr>\n",
       "    <tr>\n",
       "      <th>1334</th>\n",
       "      <td>2205.98080</td>\n",
       "      <td>1</td>\n",
       "    </tr>\n",
       "    <tr>\n",
       "      <th>1335</th>\n",
       "      <td>1629.83350</td>\n",
       "      <td>1</td>\n",
       "    </tr>\n",
       "    <tr>\n",
       "      <th>1336</th>\n",
       "      <td>2007.94500</td>\n",
       "      <td>1</td>\n",
       "    </tr>\n",
       "    <tr>\n",
       "      <th>1337</th>\n",
       "      <td>29141.36030</td>\n",
       "      <td>4</td>\n",
       "    </tr>\n",
       "  </tbody>\n",
       "</table>\n",
       "</div>"
      ],
      "text/plain": [
       "          charges charges_cla\n",
       "1328  22395.74424           4\n",
       "1329  10325.20600           3\n",
       "1330  12629.16560           3\n",
       "1331  10795.93733           3\n",
       "1332  11411.68500           3\n",
       "1333  10600.54830           3\n",
       "1334   2205.98080           1\n",
       "1335   1629.83350           1\n",
       "1336   2007.94500           1\n",
       "1337  29141.36030           4"
      ]
     },
     "metadata": {},
     "output_type": "display_data"
    }
   ],
   "source": [
    "display(df[['charges','charges_cla']].tail(10))"
   ]
  },
  {
   "cell_type": "code",
   "execution_count": null,
   "id": "9f999f55",
   "metadata": {},
   "outputs": [],
   "source": []
  },
  {
   "cell_type": "code",
   "execution_count": null,
   "id": "fb7812df",
   "metadata": {},
   "outputs": [],
   "source": []
  },
  {
   "cell_type": "markdown",
   "id": "2b3f570f",
   "metadata": {},
   "source": [
    "### Bayesian Classification"
   ]
  },
  {
   "cell_type": "code",
   "execution_count": 75,
   "id": "831e6d2b",
   "metadata": {},
   "outputs": [],
   "source": [
    "from sklearn.model_selection import train_test_split\n",
    "from sklearn.naive_bayes import CategoricalNB"
   ]
  },
  {
   "cell_type": "code",
   "execution_count": 76,
   "id": "fab99432",
   "metadata": {},
   "outputs": [],
   "source": [
    "X = df[['age_cla', 'bmi_cla', 'children', 'sex_cla', 'smoker_cla', 'region_cla']].astype('category')\n",
    "y = df['charges_cla'].astype('category')\n",
    "\n",
    "X_train, X_test, y_train, y_test = train_test_split(X, y, test_size=0.20, \n",
    "                                                shuffle=True, stratify=y, random_state=1234)"
   ]
  },
  {
   "cell_type": "code",
   "execution_count": 77,
   "id": "e14153f3",
   "metadata": {},
   "outputs": [],
   "source": [
    "model1 = CategoricalNB()"
   ]
  },
  {
   "cell_type": "code",
   "execution_count": 78,
   "id": "e191c89c",
   "metadata": {},
   "outputs": [
    {
     "data": {
      "text/html": [
       "<style>#sk-container-id-6 {color: black;background-color: white;}#sk-container-id-6 pre{padding: 0;}#sk-container-id-6 div.sk-toggleable {background-color: white;}#sk-container-id-6 label.sk-toggleable__label {cursor: pointer;display: block;width: 100%;margin-bottom: 0;padding: 0.3em;box-sizing: border-box;text-align: center;}#sk-container-id-6 label.sk-toggleable__label-arrow:before {content: \"▸\";float: left;margin-right: 0.25em;color: #696969;}#sk-container-id-6 label.sk-toggleable__label-arrow:hover:before {color: black;}#sk-container-id-6 div.sk-estimator:hover label.sk-toggleable__label-arrow:before {color: black;}#sk-container-id-6 div.sk-toggleable__content {max-height: 0;max-width: 0;overflow: hidden;text-align: left;background-color: #f0f8ff;}#sk-container-id-6 div.sk-toggleable__content pre {margin: 0.2em;color: black;border-radius: 0.25em;background-color: #f0f8ff;}#sk-container-id-6 input.sk-toggleable__control:checked~div.sk-toggleable__content {max-height: 200px;max-width: 100%;overflow: auto;}#sk-container-id-6 input.sk-toggleable__control:checked~label.sk-toggleable__label-arrow:before {content: \"▾\";}#sk-container-id-6 div.sk-estimator input.sk-toggleable__control:checked~label.sk-toggleable__label {background-color: #d4ebff;}#sk-container-id-6 div.sk-label input.sk-toggleable__control:checked~label.sk-toggleable__label {background-color: #d4ebff;}#sk-container-id-6 input.sk-hidden--visually {border: 0;clip: rect(1px 1px 1px 1px);clip: rect(1px, 1px, 1px, 1px);height: 1px;margin: -1px;overflow: hidden;padding: 0;position: absolute;width: 1px;}#sk-container-id-6 div.sk-estimator {font-family: monospace;background-color: #f0f8ff;border: 1px dotted black;border-radius: 0.25em;box-sizing: border-box;margin-bottom: 0.5em;}#sk-container-id-6 div.sk-estimator:hover {background-color: #d4ebff;}#sk-container-id-6 div.sk-parallel-item::after {content: \"\";width: 100%;border-bottom: 1px solid gray;flex-grow: 1;}#sk-container-id-6 div.sk-label:hover label.sk-toggleable__label {background-color: #d4ebff;}#sk-container-id-6 div.sk-serial::before {content: \"\";position: absolute;border-left: 1px solid gray;box-sizing: border-box;top: 0;bottom: 0;left: 50%;z-index: 0;}#sk-container-id-6 div.sk-serial {display: flex;flex-direction: column;align-items: center;background-color: white;padding-right: 0.2em;padding-left: 0.2em;position: relative;}#sk-container-id-6 div.sk-item {position: relative;z-index: 1;}#sk-container-id-6 div.sk-parallel {display: flex;align-items: stretch;justify-content: center;background-color: white;position: relative;}#sk-container-id-6 div.sk-item::before, #sk-container-id-6 div.sk-parallel-item::before {content: \"\";position: absolute;border-left: 1px solid gray;box-sizing: border-box;top: 0;bottom: 0;left: 50%;z-index: -1;}#sk-container-id-6 div.sk-parallel-item {display: flex;flex-direction: column;z-index: 1;position: relative;background-color: white;}#sk-container-id-6 div.sk-parallel-item:first-child::after {align-self: flex-end;width: 50%;}#sk-container-id-6 div.sk-parallel-item:last-child::after {align-self: flex-start;width: 50%;}#sk-container-id-6 div.sk-parallel-item:only-child::after {width: 0;}#sk-container-id-6 div.sk-dashed-wrapped {border: 1px dashed gray;margin: 0 0.4em 0.5em 0.4em;box-sizing: border-box;padding-bottom: 0.4em;background-color: white;}#sk-container-id-6 div.sk-label label {font-family: monospace;font-weight: bold;display: inline-block;line-height: 1.2em;}#sk-container-id-6 div.sk-label-container {text-align: center;}#sk-container-id-6 div.sk-container {/* jupyter's `normalize.less` sets `[hidden] { display: none; }` but bootstrap.min.css set `[hidden] { display: none !important; }` so we also need the `!important` here to be able to override the default hidden behavior on the sphinx rendered scikit-learn.org. See: https://github.com/scikit-learn/scikit-learn/issues/21755 */display: inline-block !important;position: relative;}#sk-container-id-6 div.sk-text-repr-fallback {display: none;}</style><div id=\"sk-container-id-6\" class=\"sk-top-container\"><div class=\"sk-text-repr-fallback\"><pre>CategoricalNB()</pre><b>In a Jupyter environment, please rerun this cell to show the HTML representation or trust the notebook. <br />On GitHub, the HTML representation is unable to render, please try loading this page with nbviewer.org.</b></div><div class=\"sk-container\" hidden><div class=\"sk-item\"><div class=\"sk-estimator sk-toggleable\"><input class=\"sk-toggleable__control sk-hidden--visually\" id=\"sk-estimator-id-6\" type=\"checkbox\" checked><label for=\"sk-estimator-id-6\" class=\"sk-toggleable__label sk-toggleable__label-arrow\">CategoricalNB</label><div class=\"sk-toggleable__content\"><pre>CategoricalNB()</pre></div></div></div></div></div>"
      ],
      "text/plain": [
       "CategoricalNB()"
      ]
     },
     "execution_count": 78,
     "metadata": {},
     "output_type": "execute_result"
    }
   ],
   "source": [
    "model1.fit(X_train, y_train)"
   ]
  },
  {
   "cell_type": "code",
   "execution_count": 79,
   "id": "a9df8d92",
   "metadata": {},
   "outputs": [
    {
     "name": "stdout",
     "output_type": "stream",
     "text": [
      "Accuracy: 79.10%\n"
     ]
    }
   ],
   "source": [
    "y_pred = model1.predict(X_test)\n",
    "\n",
    "from sklearn.metrics import auc, accuracy_score, confusion_matrix, mean_squared_error\n",
    "accuracy = accuracy_score(y_test, y_pred)\n",
    "print(\"Accuracy: {0:.2f}%\".format(accuracy * 100.0))"
   ]
  },
  {
   "cell_type": "code",
   "execution_count": 44,
   "id": "1fd4afba",
   "metadata": {},
   "outputs": [
    {
     "name": "stdout",
     "output_type": "stream",
     "text": [
      "Confusion Matrix:\n",
      "[[61 11  0  0]\n",
      " [ 7 53  1  0]\n",
      " [ 2 12 48  4]\n",
      " [ 0  7  8 54]]\n"
     ]
    }
   ],
   "source": [
    "print(\"Confusion Matrix:\")\n",
    "print(confusion_matrix(y_test, y_pred))"
   ]
  },
  {
   "cell_type": "code",
   "execution_count": 45,
   "id": "83d707a7",
   "metadata": {},
   "outputs": [],
   "source": [
    "# Remove correlated variables -- using Chi Square test of independence\n",
    "# df[['age_cla', 'bmi_cla', 'children', 'sex_cla', 'smoker_cla', 'region_cla']]"
   ]
  },
  {
   "cell_type": "code",
   "execution_count": 46,
   "id": "ad5dc8a4",
   "metadata": {},
   "outputs": [
    {
     "name": "stdout",
     "output_type": "stream",
     "text": [
      "age_cla vs bmi_cla : t-stats=19.428530175295847, p-value= 0.021785952043789227 *\n",
      "age_cla vs children : t-stats=170.8182739127808, p-value= 1.6744196180756928e-28 **\n",
      "age_cla vs sex_cla : t-stats=0.5257087351323595, p-value= 0.913208081926483 \n",
      "age_cla vs smoker_cla : t-stats=2.001336447127912, p-value= 0.572129366203417 \n",
      "age_cla vs region_cla : t-stats=0.5946802374503332, p-value= 0.9999360888765767 \n",
      "bmi_cla vs children : t-stats=20.569317327139082, p-value= 0.15116321931214094 \n",
      "bmi_cla vs sex_cla : t-stats=2.0298281116096737, p-value= 0.5662389070808094 \n",
      "bmi_cla vs smoker_cla : t-stats=2.6547647461247097, p-value= 0.44796936541848587 \n",
      "bmi_cla vs region_cla : t-stats=95.14095276633267, p-value= 1.5062082765488524e-16 **\n",
      "children vs sex_cla : t-stats=0.7352123565685106, p-value= 0.9809803915285088 \n",
      "children vs smoker_cla : t-stats=6.887719904947631, p-value= 0.22912555089568779 \n",
      "children vs region_cla : t-stats=13.772791061803561, p-value= 0.5428263602033943 \n",
      "sex_cla vs smoker_cla : t-stats=7.39291081459996, p-value= 0.006548143503580696 **\n",
      "sex_cla vs region_cla : t-stats=0.43513679354327284, p-value= 0.9328921288772233 \n",
      "smoker_cla vs region_cla : t-stats=7.34347776140707, p-value= 0.06171954839170547 \n"
     ]
    }
   ],
   "source": [
    "list_of_cols = ['age_cla', 'bmi_cla', 'children', 'sex_cla', 'smoker_cla', 'region_cla']\n",
    "num_times = sum(range(1,len(list_of_cols)-1))\n",
    "for i in range(len(list_of_cols)-1):\n",
    "    for j in range(i+1, len(list_of_cols)):\n",
    "        crosstab = pd.crosstab(df[list_of_cols[i]], df[list_of_cols[j]])\n",
    "        result = stats.chi2_contingency(crosstab)\n",
    "        marker = ''\n",
    "        if result[1] < 0.01:\n",
    "            marker = '**'\n",
    "        elif result[1] < 0.05:\n",
    "            marker = '*'\n",
    "        print(\"{} vs {} : t-stats={}, p-value= {} {}\".format(\n",
    "            list_of_cols[i], list_of_cols[j], result[0], result[1], marker))"
   ]
  },
  {
   "cell_type": "code",
   "execution_count": 68,
   "id": "2b2d99d8",
   "metadata": {},
   "outputs": [
    {
     "data": {
      "image/png": "[encoded data removed]",
      "text/plain": [
       "<Figure size 640x480 with 2 Axes>"
      ]
     },
     "metadata": {},
     "output_type": "display_data"
    },
    {
     "data": {
      "image/png": "[encoded data removed]",
      "text/plain": [
       "<Figure size 1000x1000 with 4 Axes>"
      ]
     },
     "metadata": {},
     "output_type": "display_data"
    }
   ],
   "source": [
    "# perform correlation calculation\n",
    "list_of_cols2 = ['age', 'bmi', 'children', 'sex_cla', 'smoker_cla', 'region_cla']\n",
    "\n",
    "correlations = df[list_of_cols2].corr()\n",
    "\n",
    "# plot the heatmap \n",
    "sns.heatmap(correlations, xticklabels=correlations.columns, \n",
    "            yticklabels=correlations.columns, annot=True)\n",
    "\n",
    "# plot the clustermap \n",
    "sns.clustermap(correlations, xticklabels=correlations.columns, \n",
    "               yticklabels=correlations.columns, annot=True)\n",
    "\n",
    "plt.show()"
   ]
  },
  {
   "cell_type": "code",
   "execution_count": 65,
   "id": "63c67290",
   "metadata": {},
   "outputs": [
    {
     "data": {
      "text/html": [
       "<div>\n",
       "<style scoped>\n",
       "    .dataframe tbody tr th:only-of-type {\n",
       "        vertical-align: middle;\n",
       "    }\n",
       "\n",
       "    .dataframe tbody tr th {\n",
       "        vertical-align: top;\n",
       "    }\n",
       "\n",
       "    .dataframe thead th {\n",
       "        text-align: right;\n",
       "    }\n",
       "</style>\n",
       "<table border=\"1\" class=\"dataframe\">\n",
       "  <thead>\n",
       "    <tr style=\"text-align: right;\">\n",
       "      <th></th>\n",
       "      <th>age_cla</th>\n",
       "      <th>bmi_cla</th>\n",
       "      <th>children</th>\n",
       "      <th>sex_cla</th>\n",
       "      <th>smoker_cla</th>\n",
       "      <th>region_cla</th>\n",
       "    </tr>\n",
       "  </thead>\n",
       "  <tbody>\n",
       "    <tr>\n",
       "      <th>0</th>\n",
       "      <td>1</td>\n",
       "      <td>2</td>\n",
       "      <td>0</td>\n",
       "      <td>1</td>\n",
       "      <td>1</td>\n",
       "      <td>1</td>\n",
       "    </tr>\n",
       "    <tr>\n",
       "      <th>1</th>\n",
       "      <td>1</td>\n",
       "      <td>3</td>\n",
       "      <td>1</td>\n",
       "      <td>0</td>\n",
       "      <td>0</td>\n",
       "      <td>0</td>\n",
       "    </tr>\n",
       "    <tr>\n",
       "      <th>2</th>\n",
       "      <td>2</td>\n",
       "      <td>3</td>\n",
       "      <td>3</td>\n",
       "      <td>0</td>\n",
       "      <td>0</td>\n",
       "      <td>0</td>\n",
       "    </tr>\n",
       "    <tr>\n",
       "      <th>3</th>\n",
       "      <td>2</td>\n",
       "      <td>1</td>\n",
       "      <td>0</td>\n",
       "      <td>0</td>\n",
       "      <td>0</td>\n",
       "      <td>2</td>\n",
       "    </tr>\n",
       "    <tr>\n",
       "      <th>4</th>\n",
       "      <td>2</td>\n",
       "      <td>2</td>\n",
       "      <td>0</td>\n",
       "      <td>0</td>\n",
       "      <td>0</td>\n",
       "      <td>2</td>\n",
       "    </tr>\n",
       "  </tbody>\n",
       "</table>\n",
       "</div>"
      ],
      "text/plain": [
       "  age_cla bmi_cla  children  sex_cla  smoker_cla  region_cla\n",
       "0       1       2         0        1           1           1\n",
       "1       1       3         1        0           0           0\n",
       "2       2       3         3        0           0           0\n",
       "3       2       1         0        0           0           2\n",
       "4       2       2         0        0           0           2"
      ]
     },
     "execution_count": 65,
     "metadata": {},
     "output_type": "execute_result"
    }
   ],
   "source": [
    "df[list_of_cols].head(5)"
   ]
  },
  {
   "cell_type": "code",
   "execution_count": null,
   "id": "0ac26c23",
   "metadata": {},
   "outputs": [],
   "source": []
  },
  {
   "cell_type": "code",
   "execution_count": null,
   "id": "c992a0d0",
   "metadata": {},
   "outputs": [],
   "source": []
  },
  {
   "cell_type": "markdown",
   "id": "d8bf1f88",
   "metadata": {},
   "source": [
    "#### Remove bmi_cla"
   ]
  },
  {
   "cell_type": "code",
   "execution_count": 92,
   "id": "c516d8e5",
   "metadata": {},
   "outputs": [],
   "source": [
    "X = df[['age_cla','smoker_cla','region_cla','children','sex_cla']].astype('category')\n",
    "y = df['charges_cla'].astype('category')\n",
    "\n",
    "X_train, X_test, y_train, y_test = train_test_split(X, y, test_size=0.20, \n",
    "                                                shuffle=True, stratify=y, random_state=1234)"
   ]
  },
  {
   "cell_type": "code",
   "execution_count": 93,
   "id": "e664fb8c",
   "metadata": {},
   "outputs": [],
   "source": [
    "model2 = CategoricalNB()"
   ]
  },
  {
   "cell_type": "code",
   "execution_count": 94,
   "id": "19d1d3ab",
   "metadata": {},
   "outputs": [
    {
     "data": {
      "text/html": [
       "<style>#sk-container-id-10 {color: black;background-color: white;}#sk-container-id-10 pre{padding: 0;}#sk-container-id-10 div.sk-toggleable {background-color: white;}#sk-container-id-10 label.sk-toggleable__label {cursor: pointer;display: block;width: 100%;margin-bottom: 0;padding: 0.3em;box-sizing: border-box;text-align: center;}#sk-container-id-10 label.sk-toggleable__label-arrow:before {content: \"▸\";float: left;margin-right: 0.25em;color: #696969;}#sk-container-id-10 label.sk-toggleable__label-arrow:hover:before {color: black;}#sk-container-id-10 div.sk-estimator:hover label.sk-toggleable__label-arrow:before {color: black;}#sk-container-id-10 div.sk-toggleable__content {max-height: 0;max-width: 0;overflow: hidden;text-align: left;background-color: #f0f8ff;}#sk-container-id-10 div.sk-toggleable__content pre {margin: 0.2em;color: black;border-radius: 0.25em;background-color: #f0f8ff;}#sk-container-id-10 input.sk-toggleable__control:checked~div.sk-toggleable__content {max-height: 200px;max-width: 100%;overflow: auto;}#sk-container-id-10 input.sk-toggleable__control:checked~label.sk-toggleable__label-arrow:before {content: \"▾\";}#sk-container-id-10 div.sk-estimator input.sk-toggleable__control:checked~label.sk-toggleable__label {background-color: #d4ebff;}#sk-container-id-10 div.sk-label input.sk-toggleable__control:checked~label.sk-toggleable__label {background-color: #d4ebff;}#sk-container-id-10 input.sk-hidden--visually {border: 0;clip: rect(1px 1px 1px 1px);clip: rect(1px, 1px, 1px, 1px);height: 1px;margin: -1px;overflow: hidden;padding: 0;position: absolute;width: 1px;}#sk-container-id-10 div.sk-estimator {font-family: monospace;background-color: #f0f8ff;border: 1px dotted black;border-radius: 0.25em;box-sizing: border-box;margin-bottom: 0.5em;}#sk-container-id-10 div.sk-estimator:hover {background-color: #d4ebff;}#sk-container-id-10 div.sk-parallel-item::after {content: \"\";width: 100%;border-bottom: 1px solid gray;flex-grow: 1;}#sk-container-id-10 div.sk-label:hover label.sk-toggleable__label {background-color: #d4ebff;}#sk-container-id-10 div.sk-serial::before {content: \"\";position: absolute;border-left: 1px solid gray;box-sizing: border-box;top: 0;bottom: 0;left: 50%;z-index: 0;}#sk-container-id-10 div.sk-serial {display: flex;flex-direction: column;align-items: center;background-color: white;padding-right: 0.2em;padding-left: 0.2em;position: relative;}#sk-container-id-10 div.sk-item {position: relative;z-index: 1;}#sk-container-id-10 div.sk-parallel {display: flex;align-items: stretch;justify-content: center;background-color: white;position: relative;}#sk-container-id-10 div.sk-item::before, #sk-container-id-10 div.sk-parallel-item::before {content: \"\";position: absolute;border-left: 1px solid gray;box-sizing: border-box;top: 0;bottom: 0;left: 50%;z-index: -1;}#sk-container-id-10 div.sk-parallel-item {display: flex;flex-direction: column;z-index: 1;position: relative;background-color: white;}#sk-container-id-10 div.sk-parallel-item:first-child::after {align-self: flex-end;width: 50%;}#sk-container-id-10 div.sk-parallel-item:last-child::after {align-self: flex-start;width: 50%;}#sk-container-id-10 div.sk-parallel-item:only-child::after {width: 0;}#sk-container-id-10 div.sk-dashed-wrapped {border: 1px dashed gray;margin: 0 0.4em 0.5em 0.4em;box-sizing: border-box;padding-bottom: 0.4em;background-color: white;}#sk-container-id-10 div.sk-label label {font-family: monospace;font-weight: bold;display: inline-block;line-height: 1.2em;}#sk-container-id-10 div.sk-label-container {text-align: center;}#sk-container-id-10 div.sk-container {/* jupyter's `normalize.less` sets `[hidden] { display: none; }` but bootstrap.min.css set `[hidden] { display: none !important; }` so we also need the `!important` here to be able to override the default hidden behavior on the sphinx rendered scikit-learn.org. See: https://github.com/scikit-learn/scikit-learn/issues/21755 */display: inline-block !important;position: relative;}#sk-container-id-10 div.sk-text-repr-fallback {display: none;}</style><div id=\"sk-container-id-10\" class=\"sk-top-container\"><div class=\"sk-text-repr-fallback\"><pre>CategoricalNB()</pre><b>In a Jupyter environment, please rerun this cell to show the HTML representation or trust the notebook. <br />On GitHub, the HTML representation is unable to render, please try loading this page with nbviewer.org.</b></div><div class=\"sk-container\" hidden><div class=\"sk-item\"><div class=\"sk-estimator sk-toggleable\"><input class=\"sk-toggleable__control sk-hidden--visually\" id=\"sk-estimator-id-10\" type=\"checkbox\" checked><label for=\"sk-estimator-id-10\" class=\"sk-toggleable__label sk-toggleable__label-arrow\">CategoricalNB</label><div class=\"sk-toggleable__content\"><pre>CategoricalNB()</pre></div></div></div></div></div>"
      ],
      "text/plain": [
       "CategoricalNB()"
      ]
     },
     "execution_count": 94,
     "metadata": {},
     "output_type": "execute_result"
    }
   ],
   "source": [
    "model2.fit(X_train, y_train)"
   ]
  },
  {
   "cell_type": "code",
   "execution_count": 95,
   "id": "71e4a992",
   "metadata": {
    "scrolled": true
   },
   "outputs": [
    {
     "name": "stdout",
     "output_type": "stream",
     "text": [
      "Accuracy: 78.73%\n"
     ]
    }
   ],
   "source": [
    "y_pred = model2.predict(X_test)\n",
    "\n",
    "from sklearn.metrics import auc, accuracy_score, confusion_matrix, mean_squared_error\n",
    "accuracy = accuracy_score(y_test, y_pred)\n",
    "print(\"Accuracy: {0:.2f}%\".format(accuracy * 100.0))"
   ]
  },
  {
   "cell_type": "code",
   "execution_count": 96,
   "id": "cadd39be",
   "metadata": {},
   "outputs": [
    {
     "name": "stdout",
     "output_type": "stream",
     "text": [
      "Confusion Matrix:\n",
      "[[56 11  0  0]\n",
      " [ 5 59  3  0]\n",
      " [ 4 11 48  4]\n",
      " [ 5  8  6 48]]\n"
     ]
    }
   ],
   "source": [
    "print(\"Confusion Matrix:\")\n",
    "print(confusion_matrix(y_test, y_pred))"
   ]
  },
  {
   "cell_type": "markdown",
   "id": "4ab27ba9",
   "metadata": {},
   "source": [
    "#### Attempt #3: Perfrom scaling on numerical data"
   ]
  },
  {
   "cell_type": "code",
   "execution_count": 154,
   "id": "b35ab9fc",
   "metadata": {},
   "outputs": [],
   "source": [
    "X = pd.concat([df[['age', 'bmi']].astype('float'),\n",
    "               df[['children', 'sex_cla', 'smoker_cla', 'region_cla']].astype('category')],\n",
    "              axis=1)\n",
    "y = df['charges_cla'].astype('category')\n",
    "\n",
    "X_train, X_test, y_train, y_test = train_test_split(X, y, test_size=0.20, \n",
    "                                                shuffle=True, stratify=y, random_state=1234)\n",
    "\n",
    "# Standard Scaler\n",
    "from sklearn.preprocessing import StandardScaler\n",
    "\n",
    "X_train_numerical = X_train.reset_index(drop=True).select_dtypes(include='number')\n",
    "X_train_categorical = X_train.reset_index(drop=True).select_dtypes(include='category')\n",
    "\n",
    "scaler = StandardScaler().fit(X_train_numerical)\n",
    "\n",
    "# Scaling X_train\n",
    "X_train_scaled = pd.concat([pd.DataFrame(scaler.transform(X_train_numerical), columns=X_train_numerical.columns),\n",
    "                     X_train_categorical], axis=1, ignore_index=False)\n",
    "\n",
    "# Scaling X_test\n",
    "X_test_numerical = X_test.reset_index(drop=True).select_dtypes(include='number')\n",
    "X_test_categorical = X_test.reset_index(drop=True).select_dtypes(include='category')\n",
    "X_test_scaled = pd.concat([pd.DataFrame(scaler.transform(X_test_numerical), columns=X_test_numerical.columns),\n",
    "                     X_test_categorical], axis=1, ignore_index=False)"
   ]
  },
  {
   "cell_type": "code",
   "execution_count": 155,
   "id": "2e020b7e",
   "metadata": {},
   "outputs": [
    {
     "name": "stdout",
     "output_type": "stream",
     "text": [
      "        age       bmi children sex_cla smoker_cla region_cla\n",
      "0  1.253264  1.886181        1       0          1          0\n",
      "1  1.182293  1.504983        0       1          0          0\n"
     ]
    }
   ],
   "source": [
    "print(X_test_scaled.head(2))"
   ]
  },
  {
   "cell_type": "code",
   "execution_count": 116,
   "id": "1a5d3c5a",
   "metadata": {},
   "outputs": [],
   "source": [
    "from sklearn.naive_bayes import GaussianNB"
   ]
  },
  {
   "cell_type": "code",
   "execution_count": 123,
   "id": "d369c290",
   "metadata": {},
   "outputs": [],
   "source": [
    "model3 = GaussianNB()"
   ]
  },
  {
   "cell_type": "code",
   "execution_count": 124,
   "id": "0d52b183",
   "metadata": {},
   "outputs": [
    {
     "data": {
      "text/html": [
       "<style>#sk-container-id-12 {color: black;background-color: white;}#sk-container-id-12 pre{padding: 0;}#sk-container-id-12 div.sk-toggleable {background-color: white;}#sk-container-id-12 label.sk-toggleable__label {cursor: pointer;display: block;width: 100%;margin-bottom: 0;padding: 0.3em;box-sizing: border-box;text-align: center;}#sk-container-id-12 label.sk-toggleable__label-arrow:before {content: \"▸\";float: left;margin-right: 0.25em;color: #696969;}#sk-container-id-12 label.sk-toggleable__label-arrow:hover:before {color: black;}#sk-container-id-12 div.sk-estimator:hover label.sk-toggleable__label-arrow:before {color: black;}#sk-container-id-12 div.sk-toggleable__content {max-height: 0;max-width: 0;overflow: hidden;text-align: left;background-color: #f0f8ff;}#sk-container-id-12 div.sk-toggleable__content pre {margin: 0.2em;color: black;border-radius: 0.25em;background-color: #f0f8ff;}#sk-container-id-12 input.sk-toggleable__control:checked~div.sk-toggleable__content {max-height: 200px;max-width: 100%;overflow: auto;}#sk-container-id-12 input.sk-toggleable__control:checked~label.sk-toggleable__label-arrow:before {content: \"▾\";}#sk-container-id-12 div.sk-estimator input.sk-toggleable__control:checked~label.sk-toggleable__label {background-color: #d4ebff;}#sk-container-id-12 div.sk-label input.sk-toggleable__control:checked~label.sk-toggleable__label {background-color: #d4ebff;}#sk-container-id-12 input.sk-hidden--visually {border: 0;clip: rect(1px 1px 1px 1px);clip: rect(1px, 1px, 1px, 1px);height: 1px;margin: -1px;overflow: hidden;padding: 0;position: absolute;width: 1px;}#sk-container-id-12 div.sk-estimator {font-family: monospace;background-color: #f0f8ff;border: 1px dotted black;border-radius: 0.25em;box-sizing: border-box;margin-bottom: 0.5em;}#sk-container-id-12 div.sk-estimator:hover {background-color: #d4ebff;}#sk-container-id-12 div.sk-parallel-item::after {content: \"\";width: 100%;border-bottom: 1px solid gray;flex-grow: 1;}#sk-container-id-12 div.sk-label:hover label.sk-toggleable__label {background-color: #d4ebff;}#sk-container-id-12 div.sk-serial::before {content: \"\";position: absolute;border-left: 1px solid gray;box-sizing: border-box;top: 0;bottom: 0;left: 50%;z-index: 0;}#sk-container-id-12 div.sk-serial {display: flex;flex-direction: column;align-items: center;background-color: white;padding-right: 0.2em;padding-left: 0.2em;position: relative;}#sk-container-id-12 div.sk-item {position: relative;z-index: 1;}#sk-container-id-12 div.sk-parallel {display: flex;align-items: stretch;justify-content: center;background-color: white;position: relative;}#sk-container-id-12 div.sk-item::before, #sk-container-id-12 div.sk-parallel-item::before {content: \"\";position: absolute;border-left: 1px solid gray;box-sizing: border-box;top: 0;bottom: 0;left: 50%;z-index: -1;}#sk-container-id-12 div.sk-parallel-item {display: flex;flex-direction: column;z-index: 1;position: relative;background-color: white;}#sk-container-id-12 div.sk-parallel-item:first-child::after {align-self: flex-end;width: 50%;}#sk-container-id-12 div.sk-parallel-item:last-child::after {align-self: flex-start;width: 50%;}#sk-container-id-12 div.sk-parallel-item:only-child::after {width: 0;}#sk-container-id-12 div.sk-dashed-wrapped {border: 1px dashed gray;margin: 0 0.4em 0.5em 0.4em;box-sizing: border-box;padding-bottom: 0.4em;background-color: white;}#sk-container-id-12 div.sk-label label {font-family: monospace;font-weight: bold;display: inline-block;line-height: 1.2em;}#sk-container-id-12 div.sk-label-container {text-align: center;}#sk-container-id-12 div.sk-container {/* jupyter's `normalize.less` sets `[hidden] { display: none; }` but bootstrap.min.css set `[hidden] { display: none !important; }` so we also need the `!important` here to be able to override the default hidden behavior on the sphinx rendered scikit-learn.org. See: https://github.com/scikit-learn/scikit-learn/issues/21755 */display: inline-block !important;position: relative;}#sk-container-id-12 div.sk-text-repr-fallback {display: none;}</style><div id=\"sk-container-id-12\" class=\"sk-top-container\"><div class=\"sk-text-repr-fallback\"><pre>GaussianNB()</pre><b>In a Jupyter environment, please rerun this cell to show the HTML representation or trust the notebook. <br />On GitHub, the HTML representation is unable to render, please try loading this page with nbviewer.org.</b></div><div class=\"sk-container\" hidden><div class=\"sk-item\"><div class=\"sk-estimator sk-toggleable\"><input class=\"sk-toggleable__control sk-hidden--visually\" id=\"sk-estimator-id-12\" type=\"checkbox\" checked><label for=\"sk-estimator-id-12\" class=\"sk-toggleable__label sk-toggleable__label-arrow\">GaussianNB</label><div class=\"sk-toggleable__content\"><pre>GaussianNB()</pre></div></div></div></div></div>"
      ],
      "text/plain": [
       "GaussianNB()"
      ]
     },
     "execution_count": 124,
     "metadata": {},
     "output_type": "execute_result"
    }
   ],
   "source": [
    "model3.fit(X_train_scaled, y_train)"
   ]
  },
  {
   "cell_type": "code",
   "execution_count": 132,
   "id": "658d239e",
   "metadata": {
    "scrolled": true
   },
   "outputs": [
    {
     "name": "stdout",
     "output_type": "stream",
     "text": [
      "Accuracy: 65.30%\n"
     ]
    }
   ],
   "source": [
    "y_pred = model3.predict(X_test_scaled)\n",
    "\n",
    "from sklearn.metrics import auc, accuracy_score, confusion_matrix, mean_squared_error\n",
    "accuracy = accuracy_score(y_test, y_pred)\n",
    "print(\"Accuracy: {0:.2f}%\".format(accuracy * 100.0))"
   ]
  },
  {
   "cell_type": "code",
   "execution_count": 133,
   "id": "91df8dd8",
   "metadata": {},
   "outputs": [
    {
     "name": "stdout",
     "output_type": "stream",
     "text": [
      "Confusion Matrix:\n",
      "[[62  5  0  0]\n",
      " [ 2 65  0  0]\n",
      " [ 4 59  0  4]\n",
      " [ 5 14  0 48]]\n"
     ]
    }
   ],
   "source": [
    "print(\"Confusion Matrix:\")\n",
    "print(confusion_matrix(y_test, y_pred))"
   ]
  },
  {
   "cell_type": "markdown",
   "id": "d14167aa",
   "metadata": {},
   "source": [
    "#### Support Vector Machine"
   ]
  },
  {
   "cell_type": "code",
   "execution_count": 156,
   "id": "62a55199",
   "metadata": {},
   "outputs": [
    {
     "data": {
      "text/html": [
       "<style>#sk-container-id-20 {color: black;background-color: white;}#sk-container-id-20 pre{padding: 0;}#sk-container-id-20 div.sk-toggleable {background-color: white;}#sk-container-id-20 label.sk-toggleable__label {cursor: pointer;display: block;width: 100%;margin-bottom: 0;padding: 0.3em;box-sizing: border-box;text-align: center;}#sk-container-id-20 label.sk-toggleable__label-arrow:before {content: \"▸\";float: left;margin-right: 0.25em;color: #696969;}#sk-container-id-20 label.sk-toggleable__label-arrow:hover:before {color: black;}#sk-container-id-20 div.sk-estimator:hover label.sk-toggleable__label-arrow:before {color: black;}#sk-container-id-20 div.sk-toggleable__content {max-height: 0;max-width: 0;overflow: hidden;text-align: left;background-color: #f0f8ff;}#sk-container-id-20 div.sk-toggleable__content pre {margin: 0.2em;color: black;border-radius: 0.25em;background-color: #f0f8ff;}#sk-container-id-20 input.sk-toggleable__control:checked~div.sk-toggleable__content {max-height: 200px;max-width: 100%;overflow: auto;}#sk-container-id-20 input.sk-toggleable__control:checked~label.sk-toggleable__label-arrow:before {content: \"▾\";}#sk-container-id-20 div.sk-estimator input.sk-toggleable__control:checked~label.sk-toggleable__label {background-color: #d4ebff;}#sk-container-id-20 div.sk-label input.sk-toggleable__control:checked~label.sk-toggleable__label {background-color: #d4ebff;}#sk-container-id-20 input.sk-hidden--visually {border: 0;clip: rect(1px 1px 1px 1px);clip: rect(1px, 1px, 1px, 1px);height: 1px;margin: -1px;overflow: hidden;padding: 0;position: absolute;width: 1px;}#sk-container-id-20 div.sk-estimator {font-family: monospace;background-color: #f0f8ff;border: 1px dotted black;border-radius: 0.25em;box-sizing: border-box;margin-bottom: 0.5em;}#sk-container-id-20 div.sk-estimator:hover {background-color: #d4ebff;}#sk-container-id-20 div.sk-parallel-item::after {content: \"\";width: 100%;border-bottom: 1px solid gray;flex-grow: 1;}#sk-container-id-20 div.sk-label:hover label.sk-toggleable__label {background-color: #d4ebff;}#sk-container-id-20 div.sk-serial::before {content: \"\";position: absolute;border-left: 1px solid gray;box-sizing: border-box;top: 0;bottom: 0;left: 50%;z-index: 0;}#sk-container-id-20 div.sk-serial {display: flex;flex-direction: column;align-items: center;background-color: white;padding-right: 0.2em;padding-left: 0.2em;position: relative;}#sk-container-id-20 div.sk-item {position: relative;z-index: 1;}#sk-container-id-20 div.sk-parallel {display: flex;align-items: stretch;justify-content: center;background-color: white;position: relative;}#sk-container-id-20 div.sk-item::before, #sk-container-id-20 div.sk-parallel-item::before {content: \"\";position: absolute;border-left: 1px solid gray;box-sizing: border-box;top: 0;bottom: 0;left: 50%;z-index: -1;}#sk-container-id-20 div.sk-parallel-item {display: flex;flex-direction: column;z-index: 1;position: relative;background-color: white;}#sk-container-id-20 div.sk-parallel-item:first-child::after {align-self: flex-end;width: 50%;}#sk-container-id-20 div.sk-parallel-item:last-child::after {align-self: flex-start;width: 50%;}#sk-container-id-20 div.sk-parallel-item:only-child::after {width: 0;}#sk-container-id-20 div.sk-dashed-wrapped {border: 1px dashed gray;margin: 0 0.4em 0.5em 0.4em;box-sizing: border-box;padding-bottom: 0.4em;background-color: white;}#sk-container-id-20 div.sk-label label {font-family: monospace;font-weight: bold;display: inline-block;line-height: 1.2em;}#sk-container-id-20 div.sk-label-container {text-align: center;}#sk-container-id-20 div.sk-container {/* jupyter's `normalize.less` sets `[hidden] { display: none; }` but bootstrap.min.css set `[hidden] { display: none !important; }` so we also need the `!important` here to be able to override the default hidden behavior on the sphinx rendered scikit-learn.org. See: https://github.com/scikit-learn/scikit-learn/issues/21755 */display: inline-block !important;position: relative;}#sk-container-id-20 div.sk-text-repr-fallback {display: none;}</style><div id=\"sk-container-id-20\" class=\"sk-top-container\"><div class=\"sk-text-repr-fallback\"><pre>SVC()</pre><b>In a Jupyter environment, please rerun this cell to show the HTML representation or trust the notebook. <br />On GitHub, the HTML representation is unable to render, please try loading this page with nbviewer.org.</b></div><div class=\"sk-container\" hidden><div class=\"sk-item\"><div class=\"sk-estimator sk-toggleable\"><input class=\"sk-toggleable__control sk-hidden--visually\" id=\"sk-estimator-id-20\" type=\"checkbox\" checked><label for=\"sk-estimator-id-20\" class=\"sk-toggleable__label sk-toggleable__label-arrow\">SVC</label><div class=\"sk-toggleable__content\"><pre>SVC()</pre></div></div></div></div></div>"
      ],
      "text/plain": [
       "SVC()"
      ]
     },
     "execution_count": 156,
     "metadata": {},
     "output_type": "execute_result"
    }
   ],
   "source": [
    "from sklearn import svm\n",
    "model4 = svm.SVC(kernel='rbf')  #kernel='linear'\n",
    "model4.fit(X_train_scaled, y_train)"
   ]
  },
  {
   "cell_type": "code",
   "execution_count": 158,
   "id": "a08b9759",
   "metadata": {},
   "outputs": [
    {
     "name": "stdout",
     "output_type": "stream",
     "text": [
      "Train set Accuracy: 91.03%\n",
      "Test set Accuracy: 84.33%\n"
     ]
    }
   ],
   "source": [
    "y_pred_train = model4.predict(X_train_scaled)\n",
    "y_pred_test = model4.predict(X_test_scaled)\n",
    "\n",
    "from sklearn.metrics import auc, accuracy_score, confusion_matrix, mean_squared_error\n",
    "\n",
    "accuracy1 = accuracy_score(y_train, y_pred_train)\n",
    "print(\"Train set Accuracy: {0:.2f}%\".format(accuracy1 * 100.0))\n",
    "accuracy2 = accuracy_score(y_test, y_pred_test)\n",
    "print(\"Test set Accuracy: {0:.2f}%\".format(accuracy2 * 100.0))"
   ]
  },
  {
   "cell_type": "code",
   "execution_count": 163,
   "id": "439bfc63",
   "metadata": {},
   "outputs": [
    {
     "name": "stdout",
     "output_type": "stream",
     "text": [
      "time taken : 0.33 min\n"
     ]
    }
   ],
   "source": [
    "# Use gridsearchCV on gamma and C parameters\n",
    "from sklearn.model_selection import cross_val_score, GridSearchCV, KFold\n",
    "\n",
    "param_grid = {\n",
    "    \"C\": [0.001, 0.01, 0.1, 1, 10, 100],\n",
    "    'gamma': [0.001, 0.01, 0.1, 1, 10, 100],\n",
    "}\n",
    "\n",
    "start_time = time.time()\n",
    "grid_search = GridSearchCV(estimator=svm.SVC(kernel='linear'), param_grid=param_grid,\n",
    "                           cv=KFold(n_splits=5, shuffle=True, random_state=1234))\n",
    "grid_search.fit(X_train_scaled, y_train)\n",
    "print(\"time taken : {0:.2f} min\".format( (time.time()-start_time)/60 ))"
   ]
  },
  {
   "cell_type": "code",
   "execution_count": 164,
   "id": "8bbe1a4b",
   "metadata": {},
   "outputs": [
    {
     "data": {
      "text/plain": [
       "{'C': 10, 'gamma': 0.001}"
      ]
     },
     "execution_count": 164,
     "metadata": {},
     "output_type": "execute_result"
    }
   ],
   "source": [
    "# Looking at the parameters from Grid search\n",
    "grid_search.best_params_"
   ]
  },
  {
   "cell_type": "code",
   "execution_count": 165,
   "id": "a74d6e4f",
   "metadata": {},
   "outputs": [
    {
     "name": "stdout",
     "output_type": "stream",
     "text": [
      "time taken : 0.00 min\n"
     ]
    }
   ],
   "source": [
    "# With the best set of parameters...\n",
    "model5 = svm.SVC(kernel='rbf',\n",
    "                 C=10,\n",
    "                 gamma=0.01,\n",
    "                 random_state = 1234)\n",
    "\n",
    "start_time = time.time()\n",
    "model5.fit(X_train_scaled,y_train)\n",
    "print(\"time taken : {0:.2f} min\".format( (time.time()-start_time)/60 ))"
   ]
  },
  {
   "cell_type": "code",
   "execution_count": 166,
   "id": "faa8b1a6",
   "metadata": {},
   "outputs": [
    {
     "name": "stdout",
     "output_type": "stream",
     "text": [
      "Train set Accuracy: 88.97%\n",
      "Test set Accuracy: 84.70%\n"
     ]
    }
   ],
   "source": [
    "y_pred_train = model5.predict(X_train_scaled)\n",
    "y_pred_test = model5.predict(X_test_scaled)\n",
    "\n",
    "from sklearn.metrics import auc, accuracy_score, confusion_matrix, mean_squared_error\n",
    "\n",
    "accuracy1 = accuracy_score(y_train, y_pred_train)\n",
    "print(\"Train set Accuracy: {0:.2f}%\".format(accuracy1 * 100.0))\n",
    "accuracy2 = accuracy_score(y_test, y_pred_test)\n",
    "print(\"Test set Accuracy: {0:.2f}%\".format(accuracy2 * 100.0))"
   ]
  },
  {
   "cell_type": "code",
   "execution_count": null,
   "id": "8539955d",
   "metadata": {},
   "outputs": [],
   "source": []
  },
  {
   "cell_type": "markdown",
   "id": "ecccb667",
   "metadata": {},
   "source": [
    "#### K-means clustering\n",
    "\n",
    "Using only age and bmi to compute within cluster sum of squarre (WCSS) to find optimal k value"
   ]
  },
  {
   "cell_type": "code",
   "execution_count": 201,
   "id": "daef5968",
   "metadata": {},
   "outputs": [
    {
     "name": "stderr",
     "output_type": "stream",
     "text": [
      "C:\\Users\\powel\\anaconda3\\envs\\tensor\\lib\\site-packages\\sklearn\\cluster\\_kmeans.py:1382: UserWarning: KMeans is known to have a memory leak on Windows with MKL, when there are less chunks than available threads. You can avoid it by setting the environment variable OMP_NUM_THREADS=5.\n",
      "  warnings.warn(\n",
      "C:\\Users\\powel\\anaconda3\\envs\\tensor\\lib\\site-packages\\sklearn\\cluster\\_kmeans.py:1382: UserWarning: KMeans is known to have a memory leak on Windows with MKL, when there are less chunks than available threads. You can avoid it by setting the environment variable OMP_NUM_THREADS=5.\n",
      "  warnings.warn(\n",
      "C:\\Users\\powel\\anaconda3\\envs\\tensor\\lib\\site-packages\\sklearn\\cluster\\_kmeans.py:1382: UserWarning: KMeans is known to have a memory leak on Windows with MKL, when there are less chunks than available threads. You can avoid it by setting the environment variable OMP_NUM_THREADS=5.\n",
      "  warnings.warn(\n",
      "C:\\Users\\powel\\anaconda3\\envs\\tensor\\lib\\site-packages\\sklearn\\cluster\\_kmeans.py:1382: UserWarning: KMeans is known to have a memory leak on Windows with MKL, when there are less chunks than available threads. You can avoid it by setting the environment variable OMP_NUM_THREADS=5.\n",
      "  warnings.warn(\n",
      "C:\\Users\\powel\\anaconda3\\envs\\tensor\\lib\\site-packages\\sklearn\\cluster\\_kmeans.py:1382: UserWarning: KMeans is known to have a memory leak on Windows with MKL, when there are less chunks than available threads. You can avoid it by setting the environment variable OMP_NUM_THREADS=5.\n",
      "  warnings.warn(\n",
      "C:\\Users\\powel\\anaconda3\\envs\\tensor\\lib\\site-packages\\sklearn\\cluster\\_kmeans.py:1382: UserWarning: KMeans is known to have a memory leak on Windows with MKL, when there are less chunks than available threads. You can avoid it by setting the environment variable OMP_NUM_THREADS=5.\n",
      "  warnings.warn(\n",
      "C:\\Users\\powel\\anaconda3\\envs\\tensor\\lib\\site-packages\\sklearn\\cluster\\_kmeans.py:1382: UserWarning: KMeans is known to have a memory leak on Windows with MKL, when there are less chunks than available threads. You can avoid it by setting the environment variable OMP_NUM_THREADS=5.\n",
      "  warnings.warn(\n",
      "C:\\Users\\powel\\anaconda3\\envs\\tensor\\lib\\site-packages\\sklearn\\cluster\\_kmeans.py:1382: UserWarning: KMeans is known to have a memory leak on Windows with MKL, when there are less chunks than available threads. You can avoid it by setting the environment variable OMP_NUM_THREADS=5.\n",
      "  warnings.warn(\n",
      "C:\\Users\\powel\\anaconda3\\envs\\tensor\\lib\\site-packages\\sklearn\\cluster\\_kmeans.py:1382: UserWarning: KMeans is known to have a memory leak on Windows with MKL, when there are less chunks than available threads. You can avoid it by setting the environment variable OMP_NUM_THREADS=5.\n",
      "  warnings.warn(\n",
      "C:\\Users\\powel\\anaconda3\\envs\\tensor\\lib\\site-packages\\sklearn\\cluster\\_kmeans.py:1382: UserWarning: KMeans is known to have a memory leak on Windows with MKL, when there are less chunks than available threads. You can avoid it by setting the environment variable OMP_NUM_THREADS=5.\n",
      "  warnings.warn(\n"
     ]
    },
    {
     "data": {
      "image/png": "[encoded data removed]",
      "text/plain": [
       "<Figure size 640x480 with 1 Axes>"
      ]
     },
     "metadata": {},
     "output_type": "display_data"
    }
   ],
   "source": [
    "# Using Elbow curve method to find the optimal 'k' value\n",
    "\n",
    "#X = dataset.iloc[:, [3, 4]].values\n",
    "#dataset = pd.read_csv('Mall_Customers.csv') \n",
    "\n",
    "from sklearn.cluster import KMeans\n",
    "\n",
    "# Using the elbow method to find the optimal number of clusters \n",
    "wcss = [] \n",
    "for i in range(1, 11):\n",
    "    kmeans = KMeans(n_clusters=i, init='k-means++', n_init=10, random_state=1234)\n",
    "    kmeans.fit(X_train_scaled[['age','bmi']])\n",
    "    wcss.append(kmeans.inertia_)\n",
    "\n",
    "plt.plot(range(1, 11), wcss)\n",
    "plt.xlabel('Number of clusters')\n",
    "plt.ylabel('WCSS')\n",
    "plt.show()"
   ]
  },
  {
   "cell_type": "code",
   "execution_count": 208,
   "id": "0a7f4fd0",
   "metadata": {},
   "outputs": [
    {
     "name": "stderr",
     "output_type": "stream",
     "text": [
      "C:\\Users\\powel\\anaconda3\\envs\\tensor\\lib\\site-packages\\sklearn\\cluster\\_kmeans.py:1382: UserWarning: KMeans is known to have a memory leak on Windows with MKL, when there are less chunks than available threads. You can avoid it by setting the environment variable OMP_NUM_THREADS=5.\n",
      "  warnings.warn(\n"
     ]
    }
   ],
   "source": [
    "# Training the K-Means model on the dataset\n",
    "kmeans = KMeans(n_clusters = 4, init = 'k-means++', n_init=10, random_state = 1234) \n",
    "y_kmeans = kmeans.fit_predict(X_train_scaled[['age','bmi']])"
   ]
  },
  {
   "cell_type": "code",
   "execution_count": 211,
   "id": "b7adc272",
   "metadata": {},
   "outputs": [
    {
     "name": "stdout",
     "output_type": "stream",
     "text": [
      "[0 1 2 3]\n"
     ]
    }
   ],
   "source": [
    "print(np.unique(y_kmeans))"
   ]
  },
  {
   "cell_type": "code",
   "execution_count": 214,
   "id": "ebc093ba",
   "metadata": {},
   "outputs": [
    {
     "data": {
      "image/png": "[encoded data removed]",
      "text/plain": [
       "<Figure size 640x480 with 1 Axes>"
      ]
     },
     "metadata": {},
     "output_type": "display_data"
    }
   ],
   "source": [
    "# Visualising the clusters\n",
    "label1='age'\n",
    "label2='bmi'\n",
    "color = ['blue', 'green', 'red', 'cyan', 'magenta', 'yellow']\n",
    "\n",
    "for i in range(len(np.unique(y_kmeans))):\n",
    "    plt.scatter(X_train_scaled[[label1]][y_kmeans == i], \n",
    "                X_train_scaled[[label2]][y_kmeans == i], s = 60, c=color[i], label = 'Cluster'+str(i+1))\n",
    "plt.scatter(kmeans.cluster_centers_[:,0], kmeans.cluster_centers_[:,1], \n",
    "            s = 100, c = 'black', label = 'Centroids')\n",
    "\n",
    "plt.xlabel(label1)\n",
    "plt.ylabel(label2)\n",
    "plt.legend() \n",
    "plt.show()"
   ]
  },
  {
   "cell_type": "code",
   "execution_count": null,
   "id": "f3654ec0",
   "metadata": {},
   "outputs": [],
   "source": []
  },
  {
   "cell_type": "code",
   "execution_count": 218,
   "id": "efb14922",
   "metadata": {},
   "outputs": [
    {
     "name": "stdout",
     "output_type": "stream",
     "text": [
      "age               int64\n",
      "sex              object\n",
      "bmi             float64\n",
      "children          int64\n",
      "smoker           object\n",
      "region           object\n",
      "charges         float64\n",
      "sex_cla           int64\n",
      "smoker_cla        int64\n",
      "region_cla        int64\n",
      "bmi_cla        category\n",
      "charges_cla    category\n",
      "age_cla        category\n",
      "dtype: object\n"
     ]
    }
   ],
   "source": [
    "print(df.dtypes)"
   ]
  },
  {
   "cell_type": "markdown",
   "id": "293b420e",
   "metadata": {},
   "source": [
    "#### XGBoost"
   ]
  },
  {
   "cell_type": "code",
   "execution_count": 255,
   "id": "2a12a09f",
   "metadata": {},
   "outputs": [],
   "source": [
    "def Preprocess_df_xgboost(df):\n",
    "    #df2 = pd.concat([df[['age', 'bmi']].astype('float'),\n",
    "    #           df[['children', 'sex_cla', 'smoker_cla', 'region_cla', 'charges_cla']].astype('category')],\n",
    "    #          axis=1)\n",
    "\n",
    "    # One-hot encode the \"color\" column\n",
    "    one_hot = pd.get_dummies(df[['children', 'sex_cla', 'smoker_cla', 'region_cla']]).astype('bool')\n",
    "    \n",
    "    X = pd.concat([df[['age','bmi']], one_hot], axis=1)\n",
    "    y = df['charges_cla']\n",
    "    \n",
    "    output_dict = dict(zip(y.unique(),range(len(y.unique()))))\n",
    "    y = y.map(output_dict)\n",
    "    \n",
    "    X_train, X_test, y_train, y_test = train_test_split(X, y, test_size=0.20, \n",
    "                                                    shuffle=True, random_state=1234)\n",
    "    \n",
    "    # Standard Scaler\n",
    "    from sklearn.preprocessing import StandardScaler\n",
    "\n",
    "    X_train_numerical = X_train.reset_index(drop=True).select_dtypes(include='number')\n",
    "    X_train_categorical = X_train.reset_index(drop=True).select_dtypes(include='bool')\n",
    "\n",
    "    scaler = StandardScaler().fit(X_train_numerical)\n",
    "    \n",
    "    # Scaling X_train\n",
    "    X_train_scaled = pd.concat([pd.DataFrame(scaler.transform(X_train_numerical), columns=X_train_numerical.columns),\n",
    "                         X_train_categorical], axis=1, ignore_index=False)\n",
    "    \n",
    "    # Scaling X_test\n",
    "    X_test_numerical = X_test.reset_index(drop=True).select_dtypes(include='number')\n",
    "    X_test_categorical = X_test.reset_index(drop=True).select_dtypes(include='bool')\n",
    "    X_test_scaled = pd.concat([pd.DataFrame(scaler.transform(X_test_numerical), columns=X_test_numerical.columns),\n",
    "                         X_test_categorical], axis=1, ignore_index=False)\n",
    "    \n",
    "    y_train_resetIndex = y_train.reset_index(drop=True)\n",
    "    y_test_resetIndex = y_test.reset_index(drop=True)\n",
    "    \n",
    "    return (X_train_scaled, X_test_scaled, y_train_resetIndex, y_test_resetIndex)"
   ]
  },
  {
   "cell_type": "code",
   "execution_count": 256,
   "id": "08c81b33",
   "metadata": {},
   "outputs": [
    {
     "name": "stdout",
     "output_type": "stream",
     "text": [
      "[0, 1, 3, 2]\n",
      "Categories (4, int64): [1 < 2 < 3 < 0]\n",
      "1070\n"
     ]
    },
    {
     "data": {
      "text/html": [
       "<div>\n",
       "<style scoped>\n",
       "    .dataframe tbody tr th:only-of-type {\n",
       "        vertical-align: middle;\n",
       "    }\n",
       "\n",
       "    .dataframe tbody tr th {\n",
       "        vertical-align: top;\n",
       "    }\n",
       "\n",
       "    .dataframe thead th {\n",
       "        text-align: right;\n",
       "    }\n",
       "</style>\n",
       "<table border=\"1\" class=\"dataframe\">\n",
       "  <thead>\n",
       "    <tr style=\"text-align: right;\">\n",
       "      <th></th>\n",
       "      <th>age</th>\n",
       "      <th>bmi</th>\n",
       "      <th>children</th>\n",
       "      <th>sex_cla</th>\n",
       "      <th>smoker_cla</th>\n",
       "      <th>region_cla</th>\n",
       "    </tr>\n",
       "  </thead>\n",
       "  <tbody>\n",
       "    <tr>\n",
       "      <th>0</th>\n",
       "      <td>1.768444</td>\n",
       "      <td>-1.175041</td>\n",
       "      <td>False</td>\n",
       "      <td>False</td>\n",
       "      <td>True</td>\n",
       "      <td>False</td>\n",
       "    </tr>\n",
       "    <tr>\n",
       "      <th>1</th>\n",
       "      <td>-1.294809</td>\n",
       "      <td>-0.844506</td>\n",
       "      <td>True</td>\n",
       "      <td>False</td>\n",
       "      <td>False</td>\n",
       "      <td>True</td>\n",
       "    </tr>\n",
       "  </tbody>\n",
       "</table>\n",
       "</div>"
      ],
      "text/plain": [
       "        age       bmi  children  sex_cla  smoker_cla  region_cla\n",
       "0  1.768444 -1.175041     False    False        True       False\n",
       "1 -1.294809 -0.844506      True    False       False        True"
      ]
     },
     "metadata": {},
     "output_type": "display_data"
    }
   ],
   "source": [
    "(X_train, X_test, y_train, y_test) = Preprocess_df_xgboost(df)\n",
    "print(y_train.unique())\n",
    "print(len(X_train))\n",
    "display(X_train.head(2))"
   ]
  },
  {
   "cell_type": "code",
   "execution_count": 262,
   "id": "a11abcce",
   "metadata": {},
   "outputs": [
    {
     "name": "stdout",
     "output_type": "stream",
     "text": [
      "[0]\ttrain-mlogloss:1.31658\n",
      "[1]\ttrain-mlogloss:1.25336\n",
      "[2]\ttrain-mlogloss:1.19574\n",
      "[3]\ttrain-mlogloss:1.14283\n",
      "[4]\ttrain-mlogloss:1.09416\n",
      "[5]\ttrain-mlogloss:1.04913\n",
      "[6]\ttrain-mlogloss:1.00747\n",
      "[7]\ttrain-mlogloss:0.96882\n",
      "[8]\ttrain-mlogloss:0.93286\n",
      "[9]\ttrain-mlogloss:0.89908\n",
      "time taken : 0.00 min\n"
     ]
    }
   ],
   "source": [
    "import xgboost as xgb\n",
    "from sklearn.model_selection import cross_val_score, GridSearchCV, KFold, RandomizedSearchCV\n",
    "\n",
    "dtrain = xgb.DMatrix(X_train, label=y_train)\n",
    "watchlist = [(dtrain, 'train')]\n",
    "params = {'objective': 'multi:softmax', \n",
    "          'num_class': len(y_train.unique()),\n",
    "          'max_depth': 6, \n",
    "          'learning_rate': 0.05}\n",
    "\n",
    "start_time = time.time()\n",
    "xg_cla = xgb.train(params=params, dtrain=dtrain, num_boost_round=10, evals=watchlist)\n",
    "print(\"time taken : {0:.2f} min\".format( (time.time()-start_time)/60 ))"
   ]
  },
  {
   "cell_type": "code",
   "execution_count": 265,
   "id": "7a646e3c",
   "metadata": {},
   "outputs": [
    {
     "name": "stdout",
     "output_type": "stream",
     "text": [
      "Train set Accuracy: 87.76%\n",
      "Test set Accuracy: 84.33%\n"
     ]
    }
   ],
   "source": [
    "# model evaluation\n",
    "dtrain = xgb.DMatrix(X_train, label=y_train)\n",
    "y_pred_train = xg_cla.predict(dtrain)\n",
    "dtest = xgb.DMatrix(X_test, label=y_test)\n",
    "y_pred_test = xg_cla.predict(dtest)\n",
    "\n",
    "from sklearn.metrics import auc, accuracy_score, confusion_matrix, mean_squared_error\n",
    "\n",
    "accuracy1 = accuracy_score(y_train, y_pred_train)\n",
    "print(\"Train set Accuracy: {0:.2f}%\".format(accuracy1 * 100.0))\n",
    "accuracy2 = accuracy_score(y_test, y_pred_test)\n",
    "print(\"Test set Accuracy: {0:.2f}%\".format(accuracy2 * 100.0))"
   ]
  },
  {
   "cell_type": "code",
   "execution_count": 266,
   "id": "c22f4a3d",
   "metadata": {},
   "outputs": [
    {
     "name": "stdout",
     "output_type": "stream",
     "text": [
      "time taken : 0.95 min\n"
     ]
    }
   ],
   "source": [
    "# Classification model2\n",
    "param_grid = {\n",
    "    \"objective\":[\"reg:softmax\"],\n",
    "    'gamma': [0.1, 1, 10],\n",
    "    'learning_rate': [0.05, 0.1, 0.3],\n",
    "    \"max_depth\": [5, 6],\n",
    "    \"n_estimators\": [50, 100, 150],\n",
    "}\n",
    "\n",
    "start_time = time.time()\n",
    "grid_search_xgboost = GridSearchCV(estimator=xgb.XGBClassifier(), param_grid=param_grid,\n",
    "                           cv=KFold(n_splits=5, shuffle=True, random_state=1234))\n",
    "grid_search_xgboost.fit(X_train, y_train)\n",
    "print(\"time taken : {0:.2f} min\".format( (time.time()-start_time)/60 ))"
   ]
  },
  {
   "cell_type": "code",
   "execution_count": 267,
   "id": "e9c075e2",
   "metadata": {},
   "outputs": [
    {
     "data": {
      "text/plain": [
       "{'gamma': 1,\n",
       " 'learning_rate': 0.05,\n",
       " 'max_depth': 6,\n",
       " 'n_estimators': 50,\n",
       " 'objective': 'reg:softmax'}"
      ]
     },
     "execution_count": 267,
     "metadata": {},
     "output_type": "execute_result"
    }
   ],
   "source": [
    "# Looking at the parameters from Grid search\n",
    "grid_search_xgboost.best_params_"
   ]
  },
  {
   "cell_type": "code",
   "execution_count": 268,
   "id": "95c139c3",
   "metadata": {},
   "outputs": [
    {
     "name": "stdout",
     "output_type": "stream",
     "text": [
      "time taken : 0.00 min\n"
     ]
    }
   ],
   "source": [
    "# With the best set of parameters...\n",
    "xg_cla2 = xgb.XGBClassifier(objective = \"reg:softmax\",\n",
    "                            gamma = grid_search_xgboost.best_params_['gamma'],\n",
    "                            learning_rate = grid_search_xgboost.best_params_['learning_rate'],\n",
    "                            max_depth = grid_search_xgboost.best_params_['max_depth'],\n",
    "                            n_estimators = grid_search_xgboost.best_params_['n_estimators'],\n",
    "                            random_state = 1234)\n",
    "    \n",
    "\n",
    "\n",
    "start_time = time.time()\n",
    "#xg_reg3 = xgb.train(params=params, dtrain=dtrain, num_boost_round=10, evals=watchlist)\n",
    "xg_cla2.fit(X_train,y_train)\n",
    "print(\"time taken : {0:.2f} min\".format( (time.time()-start_time)/60 ))"
   ]
  },
  {
   "cell_type": "code",
   "execution_count": 269,
   "id": "70cdb754",
   "metadata": {},
   "outputs": [
    {
     "name": "stdout",
     "output_type": "stream",
     "text": [
      "Train set Accuracy: 88.60%\n",
      "Test set Accuracy: 85.07%\n"
     ]
    }
   ],
   "source": [
    "# model evaluation\n",
    "y_pred_train = xg_cla2.predict(X_train)\n",
    "y_pred_test = xg_cla2.predict(X_test)\n",
    "\n",
    "from sklearn.metrics import auc, accuracy_score, confusion_matrix, mean_squared_error\n",
    "\n",
    "accuracy1 = accuracy_score(y_train, y_pred_train)\n",
    "print(\"Train set Accuracy: {0:.2f}%\".format(accuracy1 * 100.0))\n",
    "accuracy2 = accuracy_score(y_test, y_pred_test)\n",
    "print(\"Test set Accuracy: {0:.2f}%\".format(accuracy2 * 100.0))"
   ]
  },
  {
   "cell_type": "code",
   "execution_count": null,
   "id": "2c8eebfc",
   "metadata": {},
   "outputs": [],
   "source": []
  },
  {
   "cell_type": "code",
   "execution_count": null,
   "id": "16cc2c13",
   "metadata": {},
   "outputs": [],
   "source": []
  },
  {
   "cell_type": "markdown",
   "id": "eb64da82",
   "metadata": {},
   "source": [
    "#### Neural Network Model"
   ]
  },
  {
   "cell_type": "code",
   "execution_count": 272,
   "id": "d1f819de",
   "metadata": {},
   "outputs": [],
   "source": [
    "def Preprocess_df_nn(df):\n",
    "    #df2 = pd.concat([df[['age', 'bmi']].astype('float'),\n",
    "    #           df[['children', 'sex_cla', 'smoker_cla', 'region_cla', 'charges_cla']].astype('category')],\n",
    "    #          axis=1)\n",
    "\n",
    "    # One-hot encode the \"color\" column\n",
    "    #one_hot = pd.get_dummies(df[['children', 'sex_cla', 'smoker_cla', 'region_cla']]).astype('bool')\n",
    "    \n",
    "    #X = pd.concat([df[['age','bmi']], one_hot], axis=1)\n",
    "    X = pd.concat([df[['age', 'bmi']].astype('float'),\n",
    "                   df[['children', 'sex_cla', 'smoker_cla', 'region_cla', 'charges_cla']].astype('category')],\n",
    "                  axis=1)\n",
    "    y = df['charges_cla']\n",
    "    \n",
    "    output_dict = dict(zip(y.unique(),range(len(y.unique()))))\n",
    "    y = y.map(output_dict)\n",
    "    \n",
    "    X_train, X_test, y_train, y_test = train_test_split(X, y, test_size=0.20, \n",
    "                                                    shuffle=True, random_state=1234)\n",
    "    \n",
    "    # Standard Scaler\n",
    "    from sklearn.preprocessing import StandardScaler\n",
    "\n",
    "    X_train_numerical = X_train.reset_index(drop=True).select_dtypes(include='number')\n",
    "    X_train_categorical = X_train.reset_index(drop=True).select_dtypes(include='category')\n",
    "\n",
    "    scaler = StandardScaler().fit(X_train_numerical)\n",
    "    \n",
    "    # Scaling X_train\n",
    "    X_train_scaled = pd.concat([pd.DataFrame(scaler.transform(X_train_numerical), columns=X_train_numerical.columns),\n",
    "                         X_train_categorical], axis=1, ignore_index=False)\n",
    "    \n",
    "    # Scaling X_test\n",
    "    X_test_numerical = X_test.reset_index(drop=True).select_dtypes(include='number')\n",
    "    X_test_categorical = X_test.reset_index(drop=True).select_dtypes(include='category')\n",
    "    X_test_scaled = pd.concat([pd.DataFrame(scaler.transform(X_test_numerical), columns=X_test_numerical.columns),\n",
    "                         X_test_categorical], axis=1, ignore_index=False)\n",
    "    \n",
    "    y_train_resetIndex = y_train.reset_index(drop=True)\n",
    "    y_test_resetIndex = y_test.reset_index(drop=True)\n",
    "    \n",
    "    return (X_train_scaled, X_test_scaled, y_train_resetIndex, y_test_resetIndex)"
   ]
  },
  {
   "cell_type": "code",
   "execution_count": 273,
   "id": "d1bdfb4f",
   "metadata": {},
   "outputs": [
    {
     "name": "stdout",
     "output_type": "stream",
     "text": [
      "[0, 1, 3, 2]\n",
      "Categories (4, int64): [1 < 2 < 3 < 0]\n",
      "1070\n"
     ]
    },
    {
     "data": {
      "text/html": [
       "<div>\n",
       "<style scoped>\n",
       "    .dataframe tbody tr th:only-of-type {\n",
       "        vertical-align: middle;\n",
       "    }\n",
       "\n",
       "    .dataframe tbody tr th {\n",
       "        vertical-align: top;\n",
       "    }\n",
       "\n",
       "    .dataframe thead th {\n",
       "        text-align: right;\n",
       "    }\n",
       "</style>\n",
       "<table border=\"1\" class=\"dataframe\">\n",
       "  <thead>\n",
       "    <tr style=\"text-align: right;\">\n",
       "      <th></th>\n",
       "      <th>age</th>\n",
       "      <th>bmi</th>\n",
       "      <th>children</th>\n",
       "      <th>sex_cla</th>\n",
       "      <th>smoker_cla</th>\n",
       "      <th>region_cla</th>\n",
       "      <th>charges_cla</th>\n",
       "    </tr>\n",
       "  </thead>\n",
       "  <tbody>\n",
       "    <tr>\n",
       "      <th>0</th>\n",
       "      <td>1.768444</td>\n",
       "      <td>-1.175041</td>\n",
       "      <td>0</td>\n",
       "      <td>0</td>\n",
       "      <td>1</td>\n",
       "      <td>0</td>\n",
       "      <td>4</td>\n",
       "    </tr>\n",
       "    <tr>\n",
       "      <th>1</th>\n",
       "      <td>-1.294809</td>\n",
       "      <td>-0.844506</td>\n",
       "      <td>2</td>\n",
       "      <td>0</td>\n",
       "      <td>0</td>\n",
       "      <td>3</td>\n",
       "      <td>1</td>\n",
       "    </tr>\n",
       "  </tbody>\n",
       "</table>\n",
       "</div>"
      ],
      "text/plain": [
       "        age       bmi children sex_cla smoker_cla region_cla charges_cla\n",
       "0  1.768444 -1.175041        0       0          1          0           4\n",
       "1 -1.294809 -0.844506        2       0          0          3           1"
      ]
     },
     "metadata": {},
     "output_type": "display_data"
    }
   ],
   "source": [
    "(X_train, X_test, y_train, y_test) = Preprocess_df_nn(df)\n",
    "print(y_train.unique())\n",
    "print(len(X_train))\n",
    "display(X_train.head(2))"
   ]
  },
  {
   "cell_type": "code",
   "execution_count": 307,
   "id": "9887d469",
   "metadata": {},
   "outputs": [],
   "source": [
    "import tensorflow as tf\n",
    "from keras import regularizers\n",
    "from scikeras.wrappers import KerasClassifier\n",
    "from tensorflow.keras.models import Sequential\n",
    "from tensorflow.keras.layers import Dense, Dropout"
   ]
  },
  {
   "cell_type": "code",
   "execution_count": 315,
   "id": "60368205",
   "metadata": {},
   "outputs": [],
   "source": [
    "# define base model\n",
    "def baseline_model(X, y):\n",
    "    # create model\n",
    "    nodes = len(X.columns)\n",
    "    #print(nodes)\n",
    "    #print(nodes//2)\n",
    "    model = Sequential()\n",
    "    model.add(Dense(nodes, input_shape=(nodes,), kernel_initializer='normal', \n",
    "                    kernel_regularizer=regularizers.l2(0.0001),\n",
    "                    activation=tf.nn.relu))\n",
    "    model.add(Dense(nodes//2, kernel_initializer='normal',\n",
    "             kernel_regularizer=regularizers.l2(0.0001), activation=tf.nn.relu)) #hidden layer 1\n",
    "    #model.add(Dropout(0.1))\n",
    "    model.add(Dense(len(y.unique()), kernel_initializer='normal', activation=tf.nn.softmax))\n",
    "    # Compile model\n",
    "    model.compile(loss='sparse_categorical_crossentropy', optimizer='adam')\n",
    "    return model"
   ]
  },
  {
   "cell_type": "code",
   "execution_count": 316,
   "id": "3294b55a",
   "metadata": {},
   "outputs": [],
   "source": [
    "# evaluate model\n",
    "estimator = KerasClassifier(model=baseline_model(X_train,y_train), \n",
    "                           optimizer='adam',\n",
    "                           loss='sparse_categorical_crossentropy',\n",
    "                           metrics=['accuracy'],\n",
    "                           epochs=10,\n",
    "                           batch_size = 1, #math.ceil(X_train.shape[0]/2),  #-1, 1, X_train.shape[0], \n",
    "                           random_state=1234,\n",
    "                           verbose=1)"
   ]
  },
  {
   "cell_type": "code",
   "execution_count": 317,
   "id": "69b19668",
   "metadata": {},
   "outputs": [
    {
     "name": "stdout",
     "output_type": "stream",
     "text": [
      "Epoch 1/10\n",
      "1070/1070 [==============================] - 1s 728us/step - loss: 1.2100\n",
      "Epoch 2/10\n",
      "1070/1070 [==============================] - 1s 782us/step - loss: 0.8782\n",
      "Epoch 3/10\n",
      "1070/1070 [==============================] - 1s 769us/step - loss: 0.7509\n",
      "Epoch 4/10\n",
      "1070/1070 [==============================] - 1s 773us/step - loss: 0.6530\n",
      "Epoch 5/10\n",
      "1070/1070 [==============================] - 1s 771us/step - loss: 0.5459\n",
      "Epoch 6/10\n",
      "1070/1070 [==============================] - 1s 782us/step - loss: 0.4066\n",
      "Epoch 7/10\n",
      "1070/1070 [==============================] - 1s 809us/step - loss: 0.2259\n",
      "Epoch 8/10\n",
      "1070/1070 [==============================] - 1s 827us/step - loss: 0.1294\n",
      "Epoch 9/10\n",
      "1070/1070 [==============================] - 1s 818us/step - loss: 0.0749\n",
      "Epoch 10/10\n",
      "1070/1070 [==============================] - 1s 756us/step - loss: 0.0407\n",
      "time taken : 0.15 min\n"
     ]
    }
   ],
   "source": [
    "start_time = time.time()\n",
    "estimator.fit(X_train, y_train)\n",
    "print(\"time taken : {0:.2f} min\".format( (time.time()-start_time)/60 ))"
   ]
  },
  {
   "cell_type": "code",
   "execution_count": 318,
   "id": "4e39a224",
   "metadata": {},
   "outputs": [
    {
     "name": "stdout",
     "output_type": "stream",
     "text": [
      "1070/1070 [==============================] - 1s 648us/step\n",
      "268/268 [==============================] - 0s 714us/step\n",
      "Train set Accuracy: 99.81%\n",
      "Test set Accuracy: 99.63%\n"
     ]
    }
   ],
   "source": [
    "# model evaluation\n",
    "y_pred_train = estimator.predict(X_train)\n",
    "y_pred_test = estimator.predict(X_test)\n",
    "\n",
    "from sklearn.metrics import auc, accuracy_score, confusion_matrix, mean_squared_error\n",
    "\n",
    "accuracy1 = accuracy_score(y_train, y_pred_train)\n",
    "print(\"Train set Accuracy: {0:.2f}%\".format(accuracy1 * 100.0))\n",
    "accuracy2 = accuracy_score(y_test, y_pred_test)\n",
    "print(\"Test set Accuracy: {0:.2f}%\".format(accuracy2 * 100.0))"
   ]
  },
  {
   "cell_type": "code",
   "execution_count": 320,
   "id": "33fcd23d",
   "metadata": {},
   "outputs": [
    {
     "data": {
      "text/plain": [
       "{'model': <keras.engine.sequential.Sequential at 0x230f150b820>,\n",
       " 'build_fn': None,\n",
       " 'warm_start': False,\n",
       " 'random_state': 1234,\n",
       " 'optimizer': 'adam',\n",
       " 'loss': 'sparse_categorical_crossentropy',\n",
       " 'metrics': ['accuracy'],\n",
       " 'batch_size': 1,\n",
       " 'validation_batch_size': None,\n",
       " 'verbose': 1,\n",
       " 'callbacks': None,\n",
       " 'validation_split': 0.0,\n",
       " 'shuffle': True,\n",
       " 'run_eagerly': False,\n",
       " 'epochs': 10,\n",
       " 'class_weight': None}"
      ]
     },
     "execution_count": 320,
     "metadata": {},
     "output_type": "execute_result"
    }
   ],
   "source": [
    "# get the weights of the model:\n",
    "estimator.get_params(deep=True)"
   ]
  },
  {
   "cell_type": "code",
   "execution_count": null,
   "id": "fdb19808",
   "metadata": {},
   "outputs": [],
   "source": []
  },
  {
   "cell_type": "markdown",
   "id": "56963e09",
   "metadata": {},
   "source": [
    "#### Pytorch method"
   ]
  },
  {
   "cell_type": "code",
   "execution_count": 350,
   "id": "8384dabf",
   "metadata": {},
   "outputs": [
    {
     "name": "stderr",
     "output_type": "stream",
     "text": [
      "C:\\Users\\powel\\anaconda3\\envs\\tensor\\lib\\site-packages\\tqdm\\auto.py:21: TqdmWarning: IProgress not found. Please update jupyter and ipywidgets. See https://ipywidgets.readthedocs.io/en/stable/user_install.html\n",
      "  from .autonotebook import tqdm as notebook_tqdm\n"
     ]
    }
   ],
   "source": [
    "import torch\n",
    "import torchvision\n",
    "import torch.utils.data\n",
    "import torchvision.transforms as transforms\n",
    "import torch.nn as nn\n",
    "import torch.nn.functional as F\n",
    "import torch.optim as optim"
   ]
  },
  {
   "cell_type": "code",
   "execution_count": 614,
   "id": "52fb0208",
   "metadata": {},
   "outputs": [],
   "source": [
    "def Preprocess_df_pytorch(df):\n",
    "    numerical_columns = ['age','bmi']\n",
    "    categorical_columns = ['children', 'sex_cla', 'smoker_cla', 'region_cla']\n",
    "    \n",
    "    numerical_input = torch.Tensor([])\n",
    "    for i in range(len(numerical_columns)):\n",
    "        data = torch.tensor(df[numerical_columns[i]].astype('float64').values,\n",
    "                          dtype=torch.float64)\n",
    "        scaled_data = (data - data.min())/(data.max()-data.min())\n",
    "\n",
    "        if numerical_input.size() == torch.Size([0]):\n",
    "            numerical_input = scaled_data.reshape(1,-1)  #torch.transpose(scaled_data, 0, 1)\n",
    "        else:\n",
    "            numerical_input = torch.cat((numerical_input, scaled_data.reshape(1, -1)), 0)\n",
    "    \n",
    "    category_input = torch.Tensor([])\n",
    "    for i in range(len(categorical_columns)):\n",
    "        data = torch.tensor(df[categorical_columns[i]].astype('int64').values,\n",
    "                          dtype=torch.int64)\n",
    "        num_outputs = len(df[categorical_columns[i]].unique())\n",
    "\n",
    "        # Define an embedding layer\n",
    "        embedding_layer = nn.Embedding(num_embeddings=num_outputs, embedding_dim=3)\n",
    "\n",
    "        # Pass the categorical data through the embedding layer\n",
    "        embedded_data = embedding_layer(data)\n",
    "\n",
    "        if category_input.size() == torch.Size([0]):\n",
    "            category_input = embedded_data\n",
    "        else:\n",
    "            category_input = torch.cat((category_input, embedded_data), 1)\n",
    "    \n",
    "    # combine numerical and categorical tensors\n",
    "    X = torch.cat((torch.t(numerical_input),category_input), axis=1)\n",
    "    \n",
    "    y = df['charges_cla']\n",
    "    output_dict = dict(zip(y.unique(),range(len(y.unique()))))\n",
    "    y = y.map(output_dict)\n",
    "    # convert y to tensor\n",
    "    y = torch.tensor(y.astype('int64').values, dtype=torch.int64)\n",
    "    \n",
    "    \n",
    "    X_train, X_test, y_train, y_test = train_test_split(X, y, test_size=0.20, \n",
    "                                                    shuffle=True, random_state=1234)\n",
    "    \n",
    "    return (X_train, X_test, y_train, y_test)"
   ]
  },
  {
   "cell_type": "code",
   "execution_count": 615,
   "id": "4923860b",
   "metadata": {},
   "outputs": [],
   "source": [
    "X_train, X_test, y_train, y_test = Preprocess_df_pytorch(df)"
   ]
  },
  {
   "cell_type": "code",
   "execution_count": 616,
   "id": "0c813bae",
   "metadata": {},
   "outputs": [
    {
     "name": "stdout",
     "output_type": "stream",
     "text": [
      "torch.Size([1070, 14])\n",
      "torch.Size([1070])\n",
      "torch.Size([268, 14])\n",
      "torch.Size([268])\n"
     ]
    }
   ],
   "source": [
    "print(X_train.shape)\n",
    "print(y_train.shape)\n",
    "print(X_test.shape)\n",
    "print(y_test.shape)"
   ]
  },
  {
   "cell_type": "code",
   "execution_count": 617,
   "id": "c7094bc4",
   "metadata": {},
   "outputs": [],
   "source": [
    "# set batch size\n",
    "np.random.seed(1234)\n",
    "\n",
    "# np.array sample\n",
    "X_train_ind = np.array(range(X_train.size(0)))\n",
    "batch=[]\n",
    "batch_size=32\n",
    "\n",
    "while len(X_train_ind) != 0:\n",
    "    ind = range(len(X_train_ind))\n",
    "    if len(X_train_ind) >= batch_size:\n",
    "        cur_ind =  np.random.choice(ind, batch_size, replace=False)\n",
    "    else:\n",
    "        cur_ind =  ind\n",
    "    batch.append(X_train_ind[cur_ind])\n",
    "    X_train_ind = np.delete(X_train_ind,cur_ind)"
   ]
  },
  {
   "cell_type": "code",
   "execution_count": 670,
   "id": "03cc6246",
   "metadata": {},
   "outputs": [],
   "source": [
    "# Define the class Net\n",
    "class Net(nn.Module):\n",
    "    def __init__(self):\n",
    "        self.num_features = 14\n",
    "        self.num_classes = 4\n",
    "        \n",
    "        # Define all the parameters of the net\n",
    "        super(Net, self).__init__()\n",
    "        self.fc1 = nn.Linear(self.num_features, 2000)\n",
    "        self.fc2 = nn.Linear(2000, 500)\n",
    "        self.fc3 = nn.Linear(500, self.num_classes)\n",
    "\n",
    "    def forward(self, x):   \n",
    "        # Do the forward pass\n",
    "        x = F.relu(self.fc1(x))\n",
    "        x = F.relu(self.fc2(x))\n",
    "        x = self.fc3(x)\n",
    "        return x"
   ]
  },
  {
   "cell_type": "code",
   "execution_count": 671,
   "id": "989b658e",
   "metadata": {},
   "outputs": [
    {
     "data": {
      "text/plain": [
       "Net(\n",
       "  (fc1): Linear(in_features=14, out_features=2000, bias=True)\n",
       "  (fc2): Linear(in_features=2000, out_features=500, bias=True)\n",
       "  (fc3): Linear(in_features=500, out_features=4, bias=True)\n",
       ")"
      ]
     },
     "execution_count": 671,
     "metadata": {},
     "output_type": "execute_result"
    }
   ],
   "source": [
    "# Instantiate the Adam optimizer and Cross-Entropy loss function\n",
    "model = Net()   \n",
    "optimizer = optim.Adam(model.parameters(), lr=3e-4)\n",
    "criterion = nn.CrossEntropyLoss() #nn.MultiLabelSoftMarginLoss()\n",
    "  \n",
    "for batch_idx, data_ind in enumerate(batch):\n",
    "    data = X_train[data_ind]\n",
    "    target = y_train[data_ind]\n",
    "    \n",
    "    # zero the parameter gradients\n",
    "    optimizer.zero_grad()\n",
    "\n",
    "    # Complete a forward pass\n",
    "    output = model(data.float())\n",
    "\n",
    "    #print(target.shape)\n",
    "    #print(output.shape)\n",
    "    \n",
    "    # Compute the loss, gradients and change the weights\n",
    "    loss = criterion(output, target)   \n",
    "    #loss.backward()             # COMPUTE THE GRADIENTS OF THE WEIGHTS\n",
    "    loss.backward(retain_graph=True)\n",
    "    \n",
    "    optimizer.step()            # CHANGE THE WEIGHTS USING ADAM'S OPTIMIZER\n",
    "    \n",
    "    # zero the parameter gradients\n",
    "    #optimizer.zero_grad()\n",
    "    \n",
    "\n",
    "# Set the model in eval mode\n",
    "model.eval()"
   ]
  },
  {
   "cell_type": "code",
   "execution_count": 672,
   "id": "2f74fbe8",
   "metadata": {},
   "outputs": [],
   "source": [
    "# Do the forward pass and get the predictions\n",
    "outputs_test = model(X_test.float())\n",
    "_, outputs_test = torch.max(outputs_test.data, 1)"
   ]
  },
  {
   "cell_type": "code",
   "execution_count": 673,
   "id": "1acec21c",
   "metadata": {},
   "outputs": [
    {
     "name": "stdout",
     "output_type": "stream",
     "text": [
      "The testing set accuracy of the network is: 71 %\n"
     ]
    }
   ],
   "source": [
    "total = y_test_tensor.size(0)\n",
    "correct = (outputs_test == y_test_tensor).sum().item()\n",
    "print('The testing set accuracy of the network is: %d %%' % (100 * correct / total))"
   ]
  },
  {
   "cell_type": "code",
   "execution_count": null,
   "id": "c37ca11e",
   "metadata": {},
   "outputs": [],
   "source": []
  },
  {
   "cell_type": "code",
   "execution_count": null,
   "id": "970636ab",
   "metadata": {},
   "outputs": [],
   "source": []
  },
  {
   "cell_type": "code",
   "execution_count": null,
   "id": "fefb595a",
   "metadata": {},
   "outputs": [],
   "source": []
  },
  {
   "cell_type": "code",
   "execution_count": null,
   "id": "d97d1f9f",
   "metadata": {},
   "outputs": [],
   "source": []
  },
  {
   "cell_type": "code",
   "execution_count": null,
   "id": "524bb7e9",
   "metadata": {},
   "outputs": [],
   "source": []
  }
 ],
 "metadata": {
  "kernelspec": {
   "display_name": "Python 3 (ipykernel)",
   "language": "python",
   "name": "python3"
  },
  "language_info": {
   "codemirror_mode": {
    "name": "ipython",
    "version": 3
   },
   "file_extension": ".py",
   "mimetype": "text/x-python",
   "name": "python",
   "nbconvert_exporter": "python",
   "pygments_lexer": "ipython3",
   "version": "3.9.15"
  }
 },
 "nbformat": 4,
 "nbformat_minor": 5
}
